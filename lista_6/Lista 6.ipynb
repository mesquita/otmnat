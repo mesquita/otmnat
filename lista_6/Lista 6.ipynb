{
 "cells": [
  {
   "cell_type": "markdown",
   "metadata": {},
   "source": [
    "# Lista 6"
   ]
  },
  {
   "cell_type": "markdown",
   "metadata": {},
   "source": [
    "## Capítulo 9, exercício 4"
   ]
  },
  {
   "cell_type": "markdown",
   "metadata": {},
   "source": [
    "Describe the main components necessary to add to a \"standard\" EA in order to tackle a multiobjective problem."
   ]
  },
  {
   "cell_type": "markdown",
   "metadata": {},
   "source": [
    "    É necessário que o EA seja capaz de efetuar as etapas do processo evolucionário. Etapas como a selação do pais, que dependem da fitness dos indivíduos devem ser modificadas para levar em consideração todos os objetivos. O mesmo vale para a etapa de seleção de sobreviventes, que ão pode ser beaseada em regras que dependem de um único valor para a fitness. Maneiras de fazer isso incluem a escalarização, que é a combinação de todos os objetivos em uma única função objetivo, atribuíndo pesos a cada função objetivo particular, ou usar um dos vários métodos propostos no capítulo, como por exemplo o MOGA (Fonesa e Flaming) que atribui a cada indivíduo um valor artificial para a fitness igual à quantidade de indivíduos da população atual que são dominados por este.\n",
    "    Além de tratar as etapas do algoritmo que lidam diretamente com o valor da fitness, é necessário levar em consideração que enquanto problemas com uma única função objetivo têm somente um único fenótipo ótimo, problemas multiobjetivo têm como fenótipos não-dominados uma \"frente de Pareto\" potencialmente ilimitada. Como é desejável gerar indivíduos cujos fenótipos cubram a \"frente de Pareto\", em problema de multiobjetivo é muito importante a manutenção da diversidade na população de um EA."
   ]
  },
  {
   "cell_type": "markdown",
   "metadata": {},
   "source": [
    "## Capítulo 10, exercício 2 (só a primeira fase do enunciado)."
   ]
  },
  {
   "cell_type": "markdown",
   "metadata": {},
   "source": [
    "Implement a simples memetic algorithm using a single iteration of a bit-flipping local search within the code for the SGA you developed for One-Max in Chapter 3."
   ]
  },
  {
   "cell_type": "code",
   "execution_count": 4,
   "metadata": {},
   "outputs": [],
   "source": [
    "%matplotlib inline\n",
    "\n",
    "import numpy as np\n",
    "import matplotlib.pyplot as plt\n",
    "import seaborn as sns\n",
    "sns.set(\n",
    "    'paper',\n",
    "    'white',\n",
    "    'colorblind',\n",
    "    font_scale=2.2,\n",
    "    rc={\n",
    "        'lines.linewidth': 2,\n",
    "        'text.usetex': True,\n",
    "        'figure.figsize': (8.0, 6.0),\n",
    "        'image.interpolation': 'nearest',\n",
    "        'image.cmap': 'gray'\n",
    "    },\n",
    ")"
   ]
  },
  {
   "cell_type": "code",
   "execution_count": 16,
   "metadata": {},
   "outputs": [],
   "source": [
    "def init_indv_rand(num_bits):\n",
    "    return [int(bool(b)) for b in np.random.randint(2, size=num_bits)]\n",
    "\n",
    "def eval_pop_rand(num_indv, num_bits):\n",
    "    return np.array(list(map(lambda i: init_indv_rand(num_bits),range(num_indv))))\n",
    "\n",
    "def eval_fenotipo(cromossomo):\n",
    "    return sum(cromossomo)\n",
    "\n",
    "def eval_fitness(populacao):\n",
    "    return list(map(lambda i: (eval_fenotipo(list(populacao[i,:]))),range(len(populacao))))\n",
    "\n",
    "def parent_selection(populacao, fitness, num_parents):\n",
    "    fitness = np.array(fitness)\n",
    "    pre_a = (fitness/sum(fitness))\n",
    "    a = np.cumsum(pre_a)\n",
    "    mating_pool = []\n",
    "    current_member = 1\n",
    "    ue = 1\n",
    "    r = np.random.uniform(0,1/num_parents)\n",
    "    while (current_member <= num_parents):\n",
    "        while (r <= a[ue]):\n",
    "            mating_pool.append(populacao[ue].tolist())\n",
    "            r = r + 1/num_parents\n",
    "            current_member = current_member + 1\n",
    "        ue = ue + 1\n",
    "    return np.array(mating_pool)\n",
    "\n",
    "def binary_mutation(chromosome, mutation_rate):\n",
    "    for alelo in chromosome:\n",
    "        if np.random.uniform(0,1) < mutation_rate:\n",
    "            alelo = int(not(alelo))\n",
    "    return np.array(chromosome)\n",
    "\n",
    "def eval_bin_mutation(mating_pool, mutation_rate):\n",
    "    return np.array(list(map(lambda i: binary_mutation(mating_pool[i],mutation_rate),range(len(mating_pool)))))\n",
    "\n",
    "def bit_flipping_local_search(offspring, mutation_rate):\n",
    "    galera_boa = []\n",
    "    galera_boa_fitness = []\n",
    "    for child in offspring:\n",
    "        child_fitness = eval_fenotipo(child)\n",
    "        \n",
    "        child_mut = binary_mutation(child, mutation_rate)\n",
    "        child_mut_fitness = eval_fenotipo(child_mut)\n",
    "        \n",
    "        if (eval_fenotipo(child) > eval_fenotipo(child_mut)):\n",
    "            galera_boa.append(child)\n",
    "            galera_boa_fitness.append(child_fitness)\n",
    "        else:\n",
    "            galera_boa.append(child_mut)\n",
    "            galera_boa_fitness.append(child_mut_fitness)\n",
    "            \n",
    "    return galera_boa, galera_boa_fitness\n",
    "\n",
    "def one_pt_crossover(parents, crossover_rate):\n",
    "    i, j = np.random.choice(range(len(parents)),2)\n",
    "    if np.random.uniform(0,1) < crossover_rate:\n",
    "        xchg_pt = np.random.choice(range(len(parents[0])))\n",
    "        child_a = np.hstack((parents[i][:xchg_pt],parents[j][xchg_pt:]))\n",
    "        child_b = np.hstack((parents[j][:xchg_pt],parents[i][xchg_pt:]))\n",
    "    else:\n",
    "        child_a = parents[i]\n",
    "        child_b = parents[j]\n",
    "    return np.array((child_a, child_b))\n",
    "\n",
    "def eval_onept_crossover(parents, crossover_rate, num_crossover):\n",
    "    return np.concatenate(list(map(lambda i: one_pt_crossover(parents, crossover_rate),range(num_crossover))))   "
   ]
  },
  {
   "cell_type": "code",
   "execution_count": 22,
   "metadata": {},
   "outputs": [
    {
     "name": "stdout",
     "output_type": "stream",
     "text": [
      "O máximo 25 foi encontrado na 33-ésima geração.\n"
     ]
    },
    {
     "data": {
      "image/png": "[encoded data removed]",
      "text/plain": [
       "<Figure size 432x288 with 1 Axes>"
      ]
     },
     "metadata": {
      "needs_background": "light"
     },
     "output_type": "display_data"
    }
   ],
   "source": [
    "num_bits = 25\n",
    "num_indv = 100\n",
    "num_parents = 100\n",
    "mutation_rate = 1/num_bits\n",
    "crossover_rate = 0.7\n",
    "num_crossover = int(num_indv/2)\n",
    "num_geracoes = 100\n",
    "\n",
    "populacao = eval_pop_rand(num_indv, num_bits)\n",
    "pop_fitness = eval_fitness(populacao)\n",
    "\n",
    "best_x = max(pop_fitness)\n",
    "best = []\n",
    "worst = []\n",
    "mean = []\n",
    "geracao = 0\n",
    "\n",
    "for n in range(num_geracoes):\n",
    "    # select parents\n",
    "    mating_pool = parent_selection(populacao, pop_fitness, num_parents)\n",
    "    # recombine to produce offsprings\n",
    "    parents_xover = eval_onept_crossover(mating_pool, crossover_rate, num_crossover)\n",
    "    # mutate offsprings\n",
    "    offspring = eval_bin_mutation(parents_xover, mutation_rate)\n",
    "    \n",
    "    # improve offsprings via local search (USANDO LAMARCK AQUI)\n",
    "    offspring, offspring_fitness  = bit_flipping_local_search(offspring, mutation_rate)\n",
    "    \n",
    "    populacao = offspring\n",
    "    pop_fitness = offspring_fitness\n",
    "    best.append(max(offspring_fitness))\n",
    "    worst.append(min(offspring_fitness))\n",
    "    mean.append(np.mean(offspring_fitness))\n",
    "    \n",
    "print(f'O máximo {max(best)} foi encontrado na {best.index(max(best))}-ésima geração.')   \n",
    "\n",
    "sns.lineplot(range(len(best)), best, label=\"Best\")\n",
    "sns.lineplot(range(len(mean)), mean, label=\"Mean\")\n",
    "sns.lineplot(range(len(worst)), worst, label=\"Worst\")\n",
    "plt.legend(bbox_to_anchor=(1.05, 1), loc=2, borderaxespad=0.)\n",
    "plt.xlabel('gen num')\n",
    "plt.ylabel('fitness')\n",
    "plt.savefig('all.eps',format='eps')\n",
    "plt.show()"
   ]
  },
  {
   "cell_type": "markdown",
   "metadata": {},
   "source": [
    "## Capítulo 12, exercício 1"
   ]
  },
  {
   "cell_type": "markdown",
   "metadata": {},
   "source": [
    "Specify the eight-queens problems as a CSP $(S, \\phi)$"
   ]
  },
  {
   "cell_type": "markdown",
   "metadata": {},
   "source": [
    "O problema das oito rainhas consiste em encontrar uma lista de oito posições distintas no tabuleiro de xadrez (que podem ser representadas, por exemplo, cada uma por um par ordenado $(n, m) \\in \\{1, 2, 3, 4, 5, 6, 7, 8\\}^{2}$, uma posição para cada rainha, que satisfaça a seguinte restrição: nenhuma rainha deve pôr nenhuma das outras em xeque.\n",
    "\n",
    "Essa restrição pode ser considerada como um conjunto de $8$ restrições, uma para cada rainha, a $i$-ésima restrição seria: A $i$-ésima rainha não deve pôr nenhuma das outras em xeque. Ou, um conjunto de $28$ restrições, uma para cada par de rainhas, seriam restrições do tipo: A $i$-ésima e a $j$-ésima rainhas não devem estar mutuamente em xeque.\n",
    "\n",
    "Temos então: $S =$ conjunto de todas as listas de $8$ posições distintas dentre as $64$ de um tabuleiro de xadrez, e dada uma lista $L = [ L_1, L_2, \\dots, L_8] \\in S$ de posições das rainhas, $\\phi(L)$ será uma: $\\phi(L) = $ (as rainhas em $L_1$ e $L_2$ não estão em xeque) $\\bigwedge$ (as rainhas em $L_1$ e $L_3$ não estão em xeque) ...  até conferir todas as combinações.\n"
   ]
  },
  {
   "cell_type": "markdown",
   "metadata": {},
   "source": [
    "## Questão 4"
   ]
  },
  {
   "cell_type": "markdown",
   "metadata": {},
   "source": [
    "Escreva (utilizando um pseudo-código) um algoritmo genético simples para a solução do Exercício 4 da Lista de Exercícios #5, considerando que a população não é de dicionários $\\mathbf{Y}$, mas sim de matrizes $p_{\\mathbf{y}|\\mathbf{x}}$ descrevendo as probabilidades com as quais um vetor de dados $\\mathbf{x}$ é atribuído a um agrupamento $\\mathbf{y}$."
   ]
  },
  {
   "cell_type": "markdown",
   "metadata": {},
   "source": [
    "No caso de soft-clustering, onde um vetor de dados pertence, com diferente probabilidades, a vários agrupamentos, os centroides podem ser calculados como:\n",
    "\\begin{equation}\n",
    "\\mathbf{y}_{k} = \\frac{\\sum_{n=1}^{N}p(\\mathbf{y}_k | \\mathbf{x}_n)\\mathbf{x}_n}{\\sum_{n=1}^{N}p(\\mathbf{y}_k | \\mathbf{x}_n)}\n",
    "\\end{equation}\n",
    "e o erro quadrático médio é\n",
    "\\begin{equation}\n",
    "D = \\sum_{n=1}^{N}p(\\mathbf{x}_n)\\sum_{n=1}^{K}p(\\mathbf{y}_k|\\mathbf{x}_n)||\\mathbf{y}_k - \\mathbf{x}_n||^2.\n",
    "\\end{equation}\n",
    "Para vetores de entradas equiprováveis, o erro quadrático médio pode ser escrito como:\n",
    "\\begin{equation}\n",
    "D = \\frac{1}{N} \\sum_{n=1}^{N}\\sum_{n=1}^{K} p(\\mathbf{y}_k | \\mathbf{x}_n)||\\mathbf{y}_k - \\mathbf{x}_n||^{2}\n",
    "\\end{equation}\n",
    "Com isso podemos escolher um genótipo formado pelas probabilidades condicionais $p(y|x)$ e um fenótipo que apresenta centroides calculados a partir da equação de $\\mathbf{y}_{k}$. A função da fitness pode ser, por xemplo escolhida como $F(\\mathbf{Y})  -D$, já que $D \\geq 0$. Onde $\\mathbf{Y}$ é dicionário obtido pela tradução de $g$, genótipo do indivíduo. Quanto a recombinação e mutação, é possível usar crossover de um ponto e perturbação gaussiana. No entanto, como os genes representam probabilidades, devemos normalizar os valores após as operações. Desta forma garantimos que os operadores sempre gerarão indivíduos válidos. \n",
    "\n",
    "Então podemos escrever o pseudo-código:\n",
    "\n",
    "Tamanho da população: $\\mu$, População: $\\mathbf{P}$, Filhos: $\\mathbf{O}$, Probabilidade de recombinação: $p_r$, Desvio-padrão da mutação: $\\sigma_m$, Número máximo de avaliações: $L$, Tradução do genótipo para fenótipo: $trad(.)$, Vetor de fitness: $\\mathbf{f}$, Função Custo: $D$, Melhor aptidão: best-apt, Melhor candidato: best-cand. \n",
    "\n",
    "$\\textbf{while}$ i < L $\\textbf{do}$:\n",
    "\n",
    "-- $f_i$ = $D(trad(p_i))$\n",
    "    \n",
    "-- $\\textbf{if}$ $f_i$ > best-apt\n",
    "\n",
    "-- -- best-cand = $p_i$ \n",
    "\n",
    "-- $\\mathbf{M}$ = SUS($\\mathbf{P}$)\n",
    "\n",
    "-- $\\mathbf{O}$ = crossover($\\mathbf{M}$, $p_r$)\n",
    "\n",
    "-- $\\mathbf{O}$ = $\\mathbf{O}$ + $\\sigma_r N(0,1)$\n",
    "\n",
    "-- $\\mathbf{O}$ = norm($\\mathbf{O}$\n",
    "\n",
    "-- $\\mathbf{P}$ = $\\mathbf{O}$\n",
    "\n",
    "$\\mathbf{Y}^{*}$ = t(best-cand)\n"
   ]
  }
 ],
 "metadata": {
  "kernelspec": {
   "display_name": "Python 3",
   "language": "python",
   "name": "python3"
  },
  "language_info": {
   "codemirror_mode": {
    "name": "ipython",
    "version": 3
   },
   "file_extension": ".py",
   "mimetype": "text/x-python",
   "name": "python",
   "nbconvert_exporter": "python",
   "pygments_lexer": "ipython3",
   "version": "3.7.3"
  }
 },
 "nbformat": 4,
 "nbformat_minor": 2
}
