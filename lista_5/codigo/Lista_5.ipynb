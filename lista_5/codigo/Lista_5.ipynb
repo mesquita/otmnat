{
 "cells": [
  {
   "cell_type": "markdown",
   "metadata": {},
   "source": [
    "# Lista 5 de Otimização Natural"
   ]
  },
  {
   "cell_type": "markdown",
   "metadata": {},
   "source": [
    "## 1ª Questão"
   ]
  },
  {
   "cell_type": "markdown",
   "metadata": {},
   "source": [
    "### Exercício 7 do capítulo 5"
   ]
  },
  {
   "cell_type": "markdown",
   "metadata": {},
   "source": [
    "Implement an EP for the Ackley function with n = 30. Make 100 runs, storing the best value foudn in each, and then calculate the mean and standard deviation of these values. Compare your results with those from exercises 5 and 6 in Chap. 4."
   ]
  },
  {
   "cell_type": "code",
   "execution_count": 14,
   "metadata": {},
   "outputs": [],
   "source": [
    "%matplotlib inline\n",
    "\n",
    "import random\n",
    "import numpy as np\n",
    "import matplotlib.pyplot as plt\n",
    "import seaborn as sns\n",
    "sns.set(\n",
    "    'paper',\n",
    "    'white',\n",
    "    'colorblind',\n",
    "    font_scale=2.2,\n",
    "    rc={\n",
    "        'lines.linewidth': 2,\n",
    "        'text.usetex': True,\n",
    "        'figure.figsize': (8.0, 6.0),\n",
    "        'image.interpolation': 'nearest',\n",
    "        'image.cmap': 'gray'\n",
    "    },\n",
    ")"
   ]
  },
  {
   "cell_type": "code",
   "execution_count": 15,
   "metadata": {},
   "outputs": [],
   "source": [
    "# Definições das funções usadas no exercícios.\n",
    "\n",
    "\n",
    "## INICIALIZA A POPULAÇÃO\n",
    "def init_indv_rand(num_alelo):\n",
    "    return [b for b in np.random.uniform(low=-1, high=1, size=num_alelo)]\n",
    "\n",
    "def eval_pop_rand(num_indv, num_alelo):\n",
    "    return np.array(list(map(lambda i: init_indv_rand(num_alelo), range(num_indv))))\n",
    "\n",
    "\n",
    "## INICIALIZA OS DESVIOS PADRÃO\n",
    "def init_sigma_rand(num_alelo):\n",
    "    return [b for b in np.random.normal(loc=0.0, scale=1.0, size=num_alelo)]\n",
    "\n",
    "def eval_sigma_rand(num_indv, num_alelo):\n",
    "    return np.array(list(map(lambda i: init_sigma_rand(num_alelo), range(num_indv))))\n",
    "\n",
    "\n",
    "## FUNÇÃO A SER MINIMIZADA\n",
    "def ackley_func(x):\n",
    "    n = len(x)\n",
    "    return -20*np.exp(-0.2*np.sqrt(1/n * np.sum(x**2))) - np.exp(1/n * np.sum(np.cos(2*np.pi*x))) + 20 + np.exp(1)\n",
    "\n",
    "\n",
    "## FITNESS DA POPULAÇÃO\n",
    "def eval_fitness(populacao):\n",
    "    return list(map(lambda i: ackley_func(populacao[i]), range(len(populacao))))\n",
    "\n",
    "\n",
    "## MUTAÇÃO\n",
    "def mutation(x, sigma):\n",
    "    global_uni = np.random.normal(loc=0.0, scale=1.0)\n",
    "    local_uni = np.random.normal(loc=0.0, scale=1.0, size=len(sigma))    \n",
    "    alpha = 0.2\n",
    "\n",
    "    sigma_new = sigma*(1 + alpha*global_uni)\n",
    "    x_new = x + sigma*local_uni   \n",
    "    \n",
    "    eps = 0.02\n",
    "    for i, s in enumerate(sigma_new):\n",
    "        if s < eps: \n",
    "            sigma_new[i] = eps       \n",
    "    \n",
    "    (x, sigma) = (x_new, sigma_new)\n",
    "    return x, sigma\n",
    "\n",
    "def eval_mutation(children, sigma_children, num_filhos=None):\n",
    "    if num_filhos == None: num_filhos = len(children)\n",
    "    \n",
    "    x, sigma = [], []\n",
    "    for child, sigma_child in zip(children, sigma_children):\n",
    "        x_new, sigma_new = mutation(child, sigma_child)\n",
    "        x.append(x_new)\n",
    "        sigma.append(sigma_new)\n",
    "        \n",
    "    pop_chil = np.vstack((children,np.array(x)))\n",
    "    pop_chil_sigma = np.vstack((sigma_children,np.array(sigma)))\n",
    "    return pop_chil, pop_chil_sigma\n",
    "\n",
    "def mutation_CEP(x, sigma):\n",
    "    global_uni = np.random.normal(loc=0.0, scale=1.0)\n",
    "    local_uni = np.random.normal(loc=0.0, scale=1.0, size=len(sigma))\n",
    "    \n",
    "    x_candidato = x + sigma*local_uni   \n",
    "    \n",
    "    if (ackley_func(x_candidato) < ackley_func(x)):\n",
    "        x = x_candidato\n",
    "        tau_prime = 1/(np.sqrt(2*len(x)))\n",
    "        tau = 1/(np.sqrt(2*np.sqrt(len(x))))\n",
    "        eps = 10**-2\n",
    "        sigma = sigma * np.exp(tau_prime*global_uni + tau*local_uni)\n",
    "        for i, s in enumerate(sigma):\n",
    "            if s < eps: \n",
    "                sigma[i] = eps \n",
    "                \n",
    "    return x, sigma\n",
    "\n",
    "def eval_mutation_CEP(children, sigma_children, num_filhos=None):\n",
    "    if num_filhos is None: \n",
    "        num_filhos = len(children)\n",
    "        \n",
    "    x, sigma = [], []\n",
    "    for child, sigma_child in zip(children, sigma_children):\n",
    "        x_new, sigma_new = uncorr_mut_n_stepsizes(child, sigma_child)\n",
    "        x.append(x_new)\n",
    "        sigma.append(sigma_new)\n",
    "    return np.array(x), np.array(sigma)\n",
    "\n",
    "\n",
    "def mutation_FEP(x, sigma):\n",
    "    global_uni = np.random.normal(loc=0.0, scale=1.0)\n",
    "    local_uni = np.random.normal(loc=0.0, scale=1.0, size=len(sigma))\n",
    "    \n",
    "    x_candidato = x + sigma*np.random.standard_cauchy(len(sigma))\n",
    "    \n",
    "    if (ackley_func(x_candidato) < ackley_func(x)):\n",
    "        x = x_candidato\n",
    "        tau_prime = 1/(np.sqrt(2*len(x)))\n",
    "        tau = 1/(np.sqrt(2*np.sqrt(len(x))))\n",
    "        eps = 10**-2\n",
    "        sigma = sigma * np.exp(tau_prime*global_uni + tau*local_uni)\n",
    "        for i, s in enumerate(sigma):\n",
    "            if s < eps: \n",
    "                sigma[i] = eps      \n",
    "                \n",
    "    return x, sigma\n",
    "\n",
    "def eval_mutation_FEP(children, sigma_children, num_filhos=None):\n",
    "    if num_filhos == None: num_filhos = len(children)\n",
    "        \n",
    "    x, sigma = [], []\n",
    "    for child, sigma_child in zip(children, sigma_children):\n",
    "        x_new, sigma_new = uncorr_mut_n_stepsizes(child, sigma_child)\n",
    "        x.append(x_new)\n",
    "        sigma.append(sigma_new)\n",
    "    return np.array(x), np.array(sigma)\n",
    "\n",
    "\n",
    "\n",
    "\n",
    "def survivor_selection(everyone, everyone_sigma, num_rounds, num_survivors=None):\n",
    "    if num_survivors == None: num_survivors = len(everyone)*0.5\n",
    "    \n",
    "    points = np.zeros(len(everyone))\n",
    "    for c, competitor in enumerate(everyone):\n",
    "        fitness_competitor = ackley_func(competitor)\n",
    "        tds_sem_competitor = np.delete(everyone, c, axis=0)\n",
    "        for i in range(num_rounds):\n",
    "            other = tds_sem_competitor[np.random.choice(range(len(tds_sem_competitor[:,1])))]\n",
    "            if fitness_competitor < ackley_func(other):\n",
    "                points[c] += 1\n",
    "    \n",
    "    idx_sort = np.argsort(points)\n",
    "    return everyone[idx_sort[num_survivors:]], everyone_sigma[idx_sort[num_survivors:]]"
   ]
  },
  {
   "cell_type": "code",
   "execution_count": 16,
   "metadata": {},
   "outputs": [
    {
     "name": "stdout",
     "output_type": "stream",
     "text": [
      "O mínimo 0.0081576 foi encontrado na geração de número 100.\n",
      "O mínimo 0.004745 foi encontrado na geração de número 50.\n",
      "O mínimo 0.0054185 foi encontrado na geração de número 75.\n"
     ]
    }
   ],
   "source": [
    "num_alelo = 4\n",
    "num_indv = 200\n",
    "num_survivors = num_indv\n",
    "num_geracoes = 100\n",
    "num_rounds = 10\n",
    "\n",
    "populacao_1 = eval_pop_rand(num_indv, num_alelo)\n",
    "pop_sigma_1 = eval_sigma_rand(num_indv, num_alelo)\n",
    "best_x_1 = min(eval_fitness(populacao_1))\n",
    "min_gen_1 = []\n",
    "geracao_1 = 0\n",
    "\n",
    "populacao_2 = eval_pop_rand(num_indv, num_alelo)\n",
    "pop_sigma_2 = eval_sigma_rand(num_indv, num_alelo)\n",
    "best_x_2 = min(eval_fitness(populacao_2))\n",
    "min_gen_2 = []\n",
    "geracao_2 = 0\n",
    "\n",
    "populacao_3 = eval_pop_rand(num_indv, num_alelo)\n",
    "pop_sigma_3 = eval_sigma_rand(num_indv, num_alelo)\n",
    "best_x_3 = min(eval_fitness(populacao_3))\n",
    "min_gen_3 = []\n",
    "geracao_3 = 0\n",
    "\n",
    "for i in range(num_geracoes):\n",
    "    ##################### DEFAULT #####################\n",
    "    total_1, total_sigma_1 = eval_mutation(populacao_1, pop_sigma_1)\n",
    "    offspring_1, offspring_sigma_1 = survivor_selection(total_1, total_sigma_1, num_rounds, num_survivors)\n",
    "    offspring_fitness_1 = eval_fitness(offspring_1)\n",
    "    min_gen_1.append(min(offspring_fitness_1))\n",
    "    \n",
    "    if (min_gen_1[i] < best_x_1):\n",
    "        best_x_1 = min_gen_1[i]\n",
    "        geracao_1 = i\n",
    "    \n",
    "    populacao_1 = offspring_1\n",
    "    pop_sigma_1 = offspring_sigma_1\n",
    "    \n",
    "    \n",
    "    ##################### USANDO CEP #####################\n",
    "    total_2, total_sigma_2 = eval_mutation(populacao_2, pop_sigma_2)\n",
    "    offspring_2, offspring_sigma_2 = survivor_selection(total_2, total_sigma_2, num_rounds, num_survivors)\n",
    "    offspring_fitness_2 = eval_fitness(offspring_2)\n",
    "    min_gen_2.append(min(offspring_fitness_2))\n",
    "          \n",
    "    if (min_gen_2[i] < best_x_2):\n",
    "        best_x_2 = min_gen_2[i]\n",
    "        geracao_2 = i\n",
    "        \n",
    "    populacao_2 = offspring_2\n",
    "    pop_sigma_2 = offspring_sigma_2\n",
    "    \n",
    "    \n",
    "    ##################### USANDO FEP #####################   \n",
    "    total_3, total_sigma_3 = eval_mutation(populacao_3, pop_sigma_3)\n",
    "    offspring_3, offspring_sigma_3 = survivor_selection(total_3, total_sigma_3, num_rounds, num_survivors)\n",
    "    offspring_fitness_3 = eval_fitness(offspring_3)\n",
    "    min_gen_3.append(min(offspring_fitness_3))\n",
    "          \n",
    "    if (min_gen_3[i] < best_x_3):\n",
    "        best_x_3 = min_gen_3[i]\n",
    "        geracao_3 = i\n",
    "        \n",
    "    populacao_3 = offspring_3\n",
    "    pop_sigma_3 = offspring_sigma_3\n",
    "    \n",
    "print(f'O mínimo {best_x_1:.5} foi encontrado na geração de número {geracao_1 + 1}.')   \n",
    "print(f'O mínimo {best_x_2:.5} foi encontrado na geração de número {geracao_2 + 1}.')   \n",
    "print(f'O mínimo {best_x_3:.5} foi encontrado na geração de número {geracao_3 + 1}.')   "
   ]
  },
  {
   "cell_type": "code",
   "execution_count": 17,
   "metadata": {},
   "outputs": [
    {
     "data": {
      "image/png": "[encoded data removed]",
      "text/plain": [
       "<Figure size 432x288 with 1 Axes>"
      ]
     },
     "metadata": {
      "needs_background": "light"
     },
     "output_type": "display_data"
    },
    {
     "data": {
      "image/png": "[encoded data removed]",
      "text/plain": [
       "<Figure size 432x288 with 1 Axes>"
      ]
     },
     "metadata": {
      "needs_background": "light"
     },
     "output_type": "display_data"
    },
    {
     "data": {
      "image/png": "[encoded data removed]",
      "text/plain": [
       "<Figure size 432x288 with 1 Axes>"
      ]
     },
     "metadata": {
      "needs_background": "light"
     },
     "output_type": "display_data"
    }
   ],
   "source": [
    "plt.plot(range(num_geracoes), min_gen_1, label=\"Min each gen 1\")\n",
    "plt.legend(bbox_to_anchor=(1.05, 1), loc=2, borderaxespad=0.)\n",
    "plt.xlabel('gen num')\n",
    "plt.ylabel('fitness')\n",
    "plt.show()\n",
    "\n",
    "plt.plot(range(num_geracoes), min_gen_2, label=\"Min each gen 2\")\n",
    "plt.legend(bbox_to_anchor=(1.05, 1), loc=2, borderaxespad=0.)\n",
    "plt.xlabel('gen num')\n",
    "plt.ylabel('fitness')\n",
    "plt.show()\n",
    "\n",
    "plt.plot(range(num_geracoes), min_gen_3, label=\"Min each gen 3\")\n",
    "plt.legend(bbox_to_anchor=(1.05, 1), loc=2, borderaxespad=0.)\n",
    "plt.xlabel('gen num')\n",
    "plt.ylabel('fitness')\n",
    "plt.show()"
   ]
  },
  {
   "cell_type": "markdown",
   "metadata": {},
   "source": [
    "## 2ª Questão"
   ]
  },
  {
   "cell_type": "markdown",
   "metadata": {},
   "source": [
    "### Questão 1 do capítulo 14"
   ]
  },
  {
   "cell_type": "markdown",
   "metadata": {},
   "source": [
    "\n",
    "Consider using the number of generation as a measure to establish the speed of an EA. Compare the use of this measure with using the number of fitness evaluations.\n",
    "    "
   ]
  },
  {
   "cell_type": "markdown",
   "metadata": {},
   "source": [
    "## 3ª Questão"
   ]
  },
  {
   "cell_type": "markdown",
   "metadata": {},
   "source": [
    "### Questão 1 do capítulo 8"
   ]
  },
  {
   "cell_type": "markdown",
   "metadata": {},
   "source": [
    "Give arguments why mutation strength (e.g. $p_m$ or $\\sigma$) should be increased during a run. Give arguments why it should be decreased."
   ]
  },
  {
   "cell_type": "markdown",
   "metadata": {},
   "source": [
    "## 4ª Questão"
   ]
  },
  {
   "cell_type": "markdown",
   "metadata": {},
   "source": [
    "Considere o problema básico de clustering em que as colunas $\\mathbf{x}(n)$, $n = 1, \\dots, N$ da matriz de dados $\\mathbf{X}$ devem ser representadas, de forma aproximada, pelas colunas $\\mathbf{y}(k)$, $n = 1, \\dots, K$ do dicionário $\\mathbf{Y}$ de forma que seja minimizado o erro médio quadrático:\n",
    "\\begin{equation}\n",
    "D = \\frac{1}{N} \\sum^{N}_{n=1} || \\mathbf{x}(n)-\\mathbf{y}(k(n))||^{2}\n",
    "\\end{equation}\n",
    "onde $k(n) = \\mathrm{argmin}_{i}||\\mathbf{x}(n) - \\mathbf{y}(i)||$. Utilizando o pseudo-código, escreva um algoritmo genético simples, que, operando sobre uma população de dicionário $\\mathbf{Y}$, leve a obtenção de uma solução $\\mathbf{Y}^{*}$ localmente ótima para este problema. Defina todos os parâmetros que você julgar necessários."
   ]
  }
 ],
 "metadata": {
  "kernelspec": {
   "display_name": "Python 3",
   "language": "python",
   "name": "python3"
  },
  "language_info": {
   "codemirror_mode": {
    "name": "ipython",
    "version": 3
   },
   "file_extension": ".py",
   "mimetype": "text/x-python",
   "name": "python",
   "nbconvert_exporter": "python",
   "pygments_lexer": "ipython3",
   "version": "3.7.1"
  }
 },
 "nbformat": 4,
 "nbformat_minor": 2
}
