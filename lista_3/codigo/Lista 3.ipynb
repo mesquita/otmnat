{
 "cells": [
  {
   "cell_type": "markdown",
   "metadata": {},
   "source": [
    "# Lista 3"
   ]
  },
  {
   "cell_type": "markdown",
   "metadata": {},
   "source": [
    "## 1ª Questão"
   ]
  },
  {
   "cell_type": "code",
   "execution_count": 1,
   "metadata": {},
   "outputs": [],
   "source": [
    "import matplotlib.pyplot as plt\n",
    "import seaborn as sns\n",
    "sns.set(style=\"darkgrid\")\n",
    "\n",
    "import numpy as np"
   ]
  },
  {
   "cell_type": "code",
   "execution_count": 2,
   "metadata": {},
   "outputs": [
    {
     "name": "stdout",
     "output_type": "stream",
     "text": [
      "como ficou o X1 = [], como ficou o X2 = [0. 4. 6. 9.]\n"
     ]
    }
   ],
   "source": [
    "X = np.array([0, 4, 6, 9])\n",
    "X_1 = np.array([])\n",
    "X_2 = np.array([])\n",
    "#separador\n",
    "t = -1\n",
    "for x in np.nditer(X):\n",
    "    if x > t:\n",
    "        X_2 = np.append(X_2,x)\n",
    "    else:\n",
    "        X_1 = np.append(X_1,x)\n",
    "print(f'como ficou o X1 = {X_1}, como ficou o X2 = {X_2}')"
   ]
  },
  {
   "cell_type": "code",
   "execution_count": 3,
   "metadata": {},
   "outputs": [
    {
     "name": "stdout",
     "output_type": "stream",
     "text": [
      "os centros de massa são: y_1 = nan e y_2 = 4.75\n"
     ]
    },
    {
     "name": "stderr",
     "output_type": "stream",
     "text": [
      "/home/user/anaconda3/lib/python3.7/site-packages/numpy/core/fromnumeric.py:3118: RuntimeWarning: Mean of empty slice.\n",
      "  out=out, **kwargs)\n",
      "/home/user/anaconda3/lib/python3.7/site-packages/numpy/core/_methods.py:85: RuntimeWarning: invalid value encountered in double_scalars\n",
      "  ret = ret.dtype.type(ret / rcount)\n"
     ]
    }
   ],
   "source": [
    "#centros de massa\n",
    "y_1 = np.mean(X_1)\n",
    "y_2 = np.mean(X_2)\n",
    "print(f'os centros de massa são: y_1 = {y_1} e y_2 = {y_2:.3}')"
   ]
  },
  {
   "cell_type": "code",
   "execution_count": 4,
   "metadata": {},
   "outputs": [
    {
     "name": "stdout",
     "output_type": "stream",
     "text": [
      "o erro médio quadrático para este caso é: 10.69\n"
     ]
    }
   ],
   "source": [
    "#erro médio quadrático\n",
    "qtd_X = len(X)\n",
    "mse = 1/qtd_X * (np.sum((X_1 - y_1)**2) + np.sum((X_2 - y_2)**2))\n",
    "print(f'o erro médio quadrático para este caso é: {mse:.4}')"
   ]
  },
  {
   "cell_type": "markdown",
   "metadata": {},
   "source": [
    "Agora o caso mais geral da letra a)"
   ]
  },
  {
   "cell_type": "markdown",
   "metadata": {},
   "source": [
    "## Letra (a)"
   ]
  },
  {
   "cell_type": "code",
   "execution_count": 17,
   "metadata": {},
   "outputs": [],
   "source": [
    "X = np.array([0, 4, 6, 9])\n",
    "qtd_X = len(X)\n",
    "X_1 = np.array([])\n",
    "X_2 = np.array([])\n",
    "D = np.array([])\n",
    "mse = np.array([])\n",
    "\n",
    "x_plot = np.linspace(-1,11,100)\n",
    "for t in x_plot:\n",
    "    X_1 = np.array([])\n",
    "    X_2 = np.array([])\n",
    "    mse = np.array([])\n",
    "    for x in np.nditer(X):\n",
    "        if x > t:\n",
    "            X_2 = np.append(X_2,x)\n",
    "        else:\n",
    "            X_1 = np.append(X_1,x)\n",
    "    y_1 = np.mean(X_1)\n",
    "    y_2 = np.mean(X_2)\n",
    "    mse = (1/qtd_X) * (np.sum((X_1 - y_1)**2) + np.sum((X_2 - y_2)**2))\n",
    "    D = np.append(D,mse)"
   ]
  },
  {
   "cell_type": "code",
   "execution_count": 18,
   "metadata": {},
   "outputs": [
    {
     "data": {
      "image/png": "[encoded data removed]",
      "text/plain": [
       "<Figure size 432x288 with 1 Axes>"
      ]
     },
     "metadata": {
      "needs_background": "light"
     },
     "output_type": "display_data"
    }
   ],
   "source": [
    "plt.plot(x_plot,D)\n",
    "plt.xlabel('x')\n",
    "plt.savefig('cos.eps',format='eps')\n",
    "plt.show()"
   ]
  },
  {
   "cell_type": "markdown",
   "metadata": {},
   "source": [
    "## Letra (b)"
   ]
  },
  {
   "cell_type": "code",
   "execution_count": 7,
   "metadata": {},
   "outputs": [
    {
     "data": {
      "text/plain": [
       "array([[0.92824246, 0.34524654, 0.09621554, 0.00956532],\n",
       "       [0.07175754, 0.65475346, 0.90378446, 0.99043468]])"
      ]
     },
     "execution_count": 7,
     "metadata": {},
     "output_type": "execute_result"
    }
   ],
   "source": [
    "#centros de massas assumidos\n",
    "y_1 = 3.0\n",
    "y_2 = 3.4\n",
    "\n",
    "X = np.array([0, 4, 6, 9])\n",
    "\n",
    "Distances = np.vstack(((X - y_1)**2, (X - y_2)**2))\n",
    "Prob = np.exp(-Distances) / np.sum(np.exp(-Distances), axis=0)\n",
    "Prob"
   ]
  },
  {
   "cell_type": "markdown",
   "metadata": {},
   "source": [
    "## Letra (c)"
   ]
  },
  {
   "cell_type": "code",
   "execution_count": 8,
   "metadata": {},
   "outputs": [
    {
     "name": "stdout",
     "output_type": "stream",
     "text": [
      "O valor de D é 12.0\n"
     ]
    }
   ],
   "source": [
    "D = np.sum(Distances*Prob)/len(X)\n",
    "print(f'O valor de D é {D:.3}')"
   ]
  },
  {
   "cell_type": "markdown",
   "metadata": {},
   "source": [
    "## Letra (d)"
   ]
  },
  {
   "cell_type": "code",
   "execution_count": 9,
   "metadata": {},
   "outputs": [
    {
     "name": "stdout",
     "output_type": "stream",
     "text": [
      "O primeiro centroide y_1 é 1.48, o segundo y_2 é 6.47\n"
     ]
    }
   ],
   "source": [
    "y_1 = np.sum(Prob[0,:]*X.T)/np.sum(Prob[0,:])\n",
    "y_2 = np.sum(Prob[1,:]*X.T)/np.sum(Prob[1,:])\n",
    "print(f'O primeiro centroide y_1 é {y_1:.3}, o segundo y_2 é {y_2:.3}')"
   ]
  },
  {
   "cell_type": "markdown",
   "metadata": {},
   "source": [
    "## Letra (e)\n",
    "Agora tudo de novo, só que com T = 0.1"
   ]
  },
  {
   "cell_type": "code",
   "execution_count": 10,
   "metadata": {},
   "outputs": [
    {
     "name": "stdout",
     "output_type": "stream",
     "text": [
      "Matriz de probabilidades\n",
      "[[1.00000000e+00 1.65880108e-03 1.86983638e-10 7.05888391e-21]\n",
      " [7.62186519e-12 9.98341199e-01 1.00000000e+00 1.00000000e+00]]\n",
      "O valor de D é 11.9\n",
      "O primeiro centroide y_1 é 0.00662, o segundo y_2 é 6.33\n"
     ]
    }
   ],
   "source": [
    "#centros de massas assumidos\n",
    "y_1 = 3.0\n",
    "y_2 = 3.4\n",
    "T = 0.1\n",
    "X = np.array([0, 4, 6, 9])\n",
    "\n",
    "Distances = np.vstack(((X - y_1)**2, (X - y_2)**2))\n",
    "Prob = np.exp(-Distances/T) / np.sum(np.exp(-Distances/T), axis=0)\n",
    "print('Matriz de probabilidades')\n",
    "print(Prob)\n",
    "\n",
    "D = np.sum(Distances*Prob)/len(X)\n",
    "print(f'O valor de D é {D:.3}')\n",
    "\n",
    "y_1 = np.sum(Prob[0,:]*X.T)/np.sum(Prob[0,:])\n",
    "y_2 = np.sum(Prob[1,:]*X.T)/np.sum(Prob[1,:])\n",
    "print(f'O primeiro centroide y_1 é {y_1:.3}, o segundo y_2 é {y_2:.3}')"
   ]
  },
  {
   "cell_type": "markdown",
   "metadata": {},
   "source": [
    "## Letra (f)"
   ]
  },
  {
   "cell_type": "code",
   "execution_count": 11,
   "metadata": {},
   "outputs": [
    {
     "name": "stdout",
     "output_type": "stream",
     "text": [
      "Matriz de probabilidades\n",
      "[[0.5127972  0.49680004 0.48880187 0.47681664]\n",
      " [0.4872028  0.50319996 0.51119813 0.52318336]]\n",
      "O valor de D é 13.1\n",
      "O primeiro centroide y_1 é 4.66, o segundo y_2 é 4.83\n"
     ]
    }
   ],
   "source": [
    "#centros de massas assumidos\n",
    "y_1 = 3.0\n",
    "y_2 = 3.4\n",
    "T = 50\n",
    "X = np.array([0, 4, 6, 9])\n",
    "\n",
    "Distances = np.vstack(((X - y_1)**2, (X - y_2)**2))\n",
    "Prob = np.exp(-Distances/T) / np.sum(np.exp(-Distances/T), axis=0)\n",
    "print('Matriz de probabilidades')\n",
    "print(Prob)\n",
    "\n",
    "D = np.sum(Distances*Prob)/len(X)\n",
    "print(f'O valor de D é {D:.3}')\n",
    "\n",
    "y_1 = np.sum(Prob[0,:]*X.T)/np.sum(Prob[0,:])\n",
    "y_2 = np.sum(Prob[1,:]*X.T)/np.sum(Prob[1,:])\n",
    "print(f'O primeiro centroide y_1 é {y_1:.3}, o segundo y_2 é {y_2:.3}')"
   ]
  },
  {
   "cell_type": "markdown",
   "metadata": {},
   "source": [
    "## Letra (g) "
   ]
  },
  {
   "cell_type": "markdown",
   "metadata": {},
   "source": [
    "Podemos concluir que com a temperatura grande fica totalmente aleatório. "
   ]
  },
  {
   "cell_type": "markdown",
   "metadata": {},
   "source": [
    "# Questão 2"
   ]
  },
  {
   "cell_type": "code",
   "execution_count": 14,
   "metadata": {},
   "outputs": [
    {
     "data": {
      "image/png": "[encoded data removed]",
      "text/plain": [
       "<Figure size 432x288 with 1 Axes>"
      ]
     },
     "metadata": {
      "needs_background": "light"
     },
     "output_type": "display_data"
    }
   ],
   "source": [
    "def function_J(x):\n",
    "    return np.sum(((x+1)*x*(x-1))**2 + (0.1*x**2))\n",
    "\n",
    "# Plot da função J\n",
    "pt_inicial = -1.1\n",
    "pt_final = 1.1\n",
    "x = np.linspace(pt_inicial, pt_final)\n",
    "\n",
    "y = ((x+1)*x*(x-1))**2 + (0.1*x**2)\n",
    "sns.lineplot(x,y)\n",
    "plt.xlabel('x')\n",
    "plt.savefig('mins.eps',format='eps')\n",
    "plt.show()"
   ]
  },
  {
   "cell_type": "code",
   "execution_count": 24,
   "metadata": {},
   "outputs": [
    {
     "name": "stdout",
     "output_type": "stream",
     "text": [
      "o ponto min [ 0.05794515 -0.52102733 -0.11447429 -0.01823477  0.10105551  0.26302112\n",
      " -0.78133619 -0.73263585 -0.13881721 -1.10714832 -0.76786824 -0.43645804\n",
      " -0.35620787  0.25672263 -0.80453249 -0.88129092  0.1614851   0.04933816\n",
      " -0.36682441  0.18095452] e o jmin é 1.7107558026963399\n"
     ]
    }
   ],
   "source": [
    "pt_inicial = np.random.uniform(-1,0.5,20)\n",
    "J_inicial = function_J(pt_inicial)\n",
    "pt_atual = pt_inicial\n",
    "J_atual = J_inicial\n",
    "\n",
    "# Parâmetros utilizados\n",
    "N = 10000\n",
    "K = 100\n",
    "T_inicial = 0.1\n",
    "T = T_inicial\n",
    "epsilon = 10e-2\n",
    "\n",
    "fim = 0\n",
    "n = 0\n",
    "k = 1\n",
    "J_min = J_atual\n",
    "pt_min = pt_atual\n",
    "\n",
    "while not(fim):\n",
    "    n = n + 1\n",
    "    pt = pt_atual + epsilon*(np.random.normal(-0.5, 0.5))\n",
    "    J = function_J(pt)\n",
    "    if (np.random.uniform(0,1) < np.exp((J_atual-J)/T)):\n",
    "        pt_atual = pt\n",
    "        J_atual = J\n",
    "    if (J < J_min):\n",
    "        J_min = J\n",
    "        pt_min = pt\n",
    "    if (n % N == 0):\n",
    "        k = k + 1\n",
    "        T = T_inicial/(np.log(1+k))\n",
    "        if k == K:\n",
    "            fim = 1\n",
    "\n",
    "print(f'o ponto min {pt_min} e o jmin é {J_min}')"
   ]
  }
 ],
 "metadata": {
  "kernelspec": {
   "display_name": "Python 3",
   "language": "python",
   "name": "python3"
  },
  "language_info": {
   "codemirror_mode": {
    "name": "ipython",
    "version": 3
   },
   "file_extension": ".py",
   "mimetype": "text/x-python",
   "name": "python",
   "nbconvert_exporter": "python",
   "pygments_lexer": "ipython3",
   "version": "3.7.3"
  }
 },
 "nbformat": 4,
 "nbformat_minor": 2
}
