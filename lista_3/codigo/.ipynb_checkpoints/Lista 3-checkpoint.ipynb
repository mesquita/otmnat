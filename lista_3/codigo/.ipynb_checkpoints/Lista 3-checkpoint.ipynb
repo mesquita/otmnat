{
 "cells": [
  {
   "cell_type": "markdown",
   "metadata": {},
   "source": [
    "# Lista 3"
   ]
  },
  {
   "cell_type": "markdown",
   "metadata": {},
   "source": [
    "## 1ª Questão"
   ]
  },
  {
   "cell_type": "code",
   "execution_count": 1,
   "metadata": {},
   "outputs": [],
   "source": [
    "import matplotlib.pyplot as plt\n",
    "import seaborn as sns\n",
    "sns.set(style=\"darkgrid\")\n",
    "\n",
    "import numpy as np"
   ]
  },
  {
   "cell_type": "code",
   "execution_count": 2,
   "metadata": {},
   "outputs": [
    {
     "name": "stdout",
     "output_type": "stream",
     "text": [
      "como ficou o X1 = [], como ficou o X2 = [0. 4. 6. 9.]\n"
     ]
    }
   ],
   "source": [
    "X = np.array([0, 4, 6, 9])\n",
    "X_1 = np.array([])\n",
    "X_2 = np.array([])\n",
    "#separador\n",
    "t = -1\n",
    "for x in np.nditer(X):\n",
    "    if x > t:\n",
    "        X_2 = np.append(X_2,x)\n",
    "    else:\n",
    "        X_1 = np.append(X_1,x)\n",
    "print(f'como ficou o X1 = {X_1}, como ficou o X2 = {X_2}')"
   ]
  },
  {
   "cell_type": "code",
   "execution_count": 11,
   "metadata": {},
   "outputs": [
    {
     "name": "stdout",
     "output_type": "stream",
     "text": [
      "os centros de massa são: y_1 = nan e y_2 = 4.75\n"
     ]
    }
   ],
   "source": [
    "#centros de massa\n",
    "y_1 = np.mean(X_1)\n",
    "y_2 = np.mean(X_2)\n",
    "print(f'os centros de massa são: y_1 = {y_1} e y_2 = {y_2:.3}')"
   ]
  },
  {
   "cell_type": "code",
   "execution_count": 12,
   "metadata": {},
   "outputs": [
    {
     "name": "stdout",
     "output_type": "stream",
     "text": [
      "o erro médio quadrático para este caso é: 10.69\n"
     ]
    }
   ],
   "source": [
    "#erro médio quadrático\n",
    "qtd_X = len(X)\n",
    "mse = 1/qtd_X * (np.sum((X_1 - y_1)**2) + np.sum((X_2 - y_2)**2))\n",
    "print(f'o erro médio quadrático para este caso é: {mse:.4}')"
   ]
  },
  {
   "cell_type": "markdown",
   "metadata": {},
   "source": [
    "Agora o caso mais geral da letra a)"
   ]
  },
  {
   "cell_type": "markdown",
   "metadata": {},
   "source": [
    "## Letra (a)"
   ]
  },
  {
   "cell_type": "code",
   "execution_count": 30,
   "metadata": {},
   "outputs": [],
   "source": [
    "X = np.array([0, 4, 6, 9])\n",
    "qtd_X = len(X)\n",
    "X_1 = np.array([])\n",
    "X_2 = np.array([])\n",
    "D = np.array([])\n",
    "mse = np.array([])\n",
    "\n",
    "x_plot = np.linspace(-1,11,100)\n",
    "for t in x_plot:\n",
    "    X_1 = np.array([])\n",
    "    X_2 = np.array([])\n",
    "    mse = np.array([])\n",
    "    for x in np.nditer(X):\n",
    "        if x > t:\n",
    "            X_2 = np.append(X_2,x)\n",
    "        else:\n",
    "            X_1 = np.append(X_1,x)\n",
    "    y_1 = np.mean(X_1)\n",
    "    y_2 = np.mean(X_2)\n",
    "    mse = (1/qtd_X) * (np.sum((X_1 - y_1)**2) + np.sum((X_2 - y_2)**2))\n",
    "    D = np.append(D,mse)"
   ]
  },
  {
   "cell_type": "code",
   "execution_count": 31,
   "metadata": {},
   "outputs": [
    {
     "data": {
      "image/png": "[encoded data removed]",
      "text/plain": [
       "<Figure size 432x288 with 1 Axes>"
      ]
     },
     "metadata": {
      "needs_background": "light"
     },
     "output_type": "display_data"
    }
   ],
   "source": [
    "plt.plot(x_plot,D)\n",
    "plt.xlabel('x')\n",
    "plt.savefig('cos.eps',format='eps')\n",
    "plt.show()"
   ]
  },
  {
   "cell_type": "markdown",
   "metadata": {},
   "source": [
    "## Letra (b)"
   ]
  },
  {
   "cell_type": "code",
   "execution_count": 64,
   "metadata": {},
   "outputs": [
    {
     "data": {
      "text/plain": [
       "array([[0.92824246, 0.34524654, 0.09621554, 0.00956532],\n",
       "       [0.07175754, 0.65475346, 0.90378446, 0.99043468]])"
      ]
     },
     "execution_count": 64,
     "metadata": {},
     "output_type": "execute_result"
    }
   ],
   "source": [
    "#centros de massas assumidos\n",
    "y_1 = 3.0\n",
    "y_2 = 3.4\n",
    "\n",
    "X = np.array([0, 4, 6, 9])\n",
    "\n",
    "Distances = np.vstack(((X - y_1)**2, (X - y_2)**2))\n",
    "Prob = np.exp(- Distances) / np.sum(np.exp(-Distances), axis=0)\n",
    "Prob"
   ]
  },
  {
   "cell_type": "code",
   "execution_count": 51,
   "metadata": {},
   "outputs": [
    {
     "data": {
      "text/plain": [
       "array([20.56,  1.36, 15.76, 67.36])"
      ]
     },
     "execution_count": 51,
     "metadata": {},
     "output_type": "execute_result"
    }
   ],
   "source": []
  }
 ],
 "metadata": {
  "kernelspec": {
   "display_name": "Python 3",
   "language": "python",
   "name": "python3"
  },
  "language_info": {
   "codemirror_mode": {
    "name": "ipython",
    "version": 3
   },
   "file_extension": ".py",
   "mimetype": "text/x-python",
   "name": "python",
   "nbconvert_exporter": "python",
   "pygments_lexer": "ipython3",
   "version": "3.7.1"
  }
 },
 "nbformat": 4,
 "nbformat_minor": 2
}
