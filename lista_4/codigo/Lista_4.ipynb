{
 "cells": [
  {
   "cell_type": "markdown",
   "metadata": {},
   "source": [
    "# 4ª Lista de Exercícios de Otimização Natural"
   ]
  },
  {
   "cell_type": "markdown",
   "metadata": {},
   "source": [
    "### Vinicius Mesquita de Pinho, Otimização Natural, Lista 4"
   ]
  },
  {
   "cell_type": "markdown",
   "metadata": {},
   "source": [
    "### Comentários gerais:\n",
    "Esta liga contém a seguinte estrutura: temos a definição dos pacotes utilizados, seguidos das questões. Cada questão começa com a definição das funções utilizadas, seguida da execução do algoritmo com seus parâmetros.\n",
    "\n",
    "#### 1ª Questão\n",
    "A primeira questão conseguiu chegar ao mínimo global sem problemas, mesmo utilizando as estratégias mais simples para o GA.\n",
    "#### 2ª Questão\n",
    "Diferente da primeira, os parâmetros eram definidos pelo enunciado e não é possível chegar ao máximo da função dada sempre. Caso o número de gerações seja aumentado (e.g., 1000 gerações) é possível obtermos o máximo sempre.\n",
    "#### 3ª Questão\n",
    "Nesta questão não foi possível obtermos o mínimo global com os parâmetros do enunciado. Um tunning melhor é preciso."
   ]
  },
  {
   "cell_type": "code",
   "execution_count": 2,
   "metadata": {},
   "outputs": [],
   "source": [
    "%matplotlib inline\n",
    "\n",
    "import random\n",
    "import numpy as np\n",
    "import matplotlib.pyplot as plt\n",
    "import seaborn as sns\n",
    "sns.set(\n",
    "    'paper',\n",
    "    'white',\n",
    "    'colorblind',\n",
    "    font_scale=2.2,\n",
    "    rc={\n",
    "        'lines.linewidth': 2,\n",
    "        'text.usetex': True,\n",
    "        'figure.figsize': (8.0, 6.0),\n",
    "        'image.interpolation': 'nearest',\n",
    "        'image.cmap': 'gray'\n",
    "    },\n",
    ")"
   ]
  },
  {
   "cell_type": "markdown",
   "metadata": {},
   "source": [
    "# 1ª Questão"
   ]
  },
  {
   "cell_type": "markdown",
   "metadata": {},
   "source": [
    "Escreva um algoritmo genético simples (SAG) para minimizar a função $y(x) = x^2 - 0.3cos(10\\pi x)$ no intervalo $x \\in [-2, +2]$, utilizando um genótipo de representação binária com pelo $16$ bits. Utilizando inicialização aleatória, execute cinco vezes o algoritmo. Comente sobre os resultados obtidos."
   ]
  },
  {
   "cell_type": "code",
   "execution_count": 3,
   "metadata": {},
   "outputs": [],
   "source": [
    "def funcao_a_minimizar(x):\n",
    "    return x**2 - 0.3*np.cos(10*np.pi*x)\n",
    "\n",
    "def init_indv_rand(num_bits):\n",
    "    return [int(bool(b)) for b in np.random.randint(2, size=num_bits)]\n",
    "\n",
    "def eval_pop_rand(num_indv, num_bits):\n",
    "    return np.array(list(map(lambda i: init_indv_rand(num_bits),range(num_indv))))\n",
    "\n",
    "def bin_from_gray(g):\n",
    "    b = [g[-1]]\n",
    "    for n in g[-2::-1]:\n",
    "        b.insert(0, b[0]^n)\n",
    "    return b\n",
    "    \n",
    "def eval_fenotipo(cromossomo, num_bits):\n",
    "    b = bin_from_gray(cromossomo)\n",
    "    u = sum(2**k for k in range(num_bits) if b[k])\n",
    "    u /= 2**num_bits\n",
    "    return -2 + 4 * u   \n",
    "\n",
    "def eval_fitness(populacao):\n",
    "    return list(map(lambda i: funcao_a_minimizar(eval_fenotipo(list(populacao[i,:]),len(populacao[0]))),range(len(populacao))))\n",
    "\n",
    "def parent_selection(populacao, fitness, num_parents):\n",
    "    fitness = 100 - np.array(fitness)\n",
    "    pre_a = (fitness/sum(fitness))\n",
    "    a = np.cumsum(pre_a)\n",
    "    mating_pool = []\n",
    "    current_member = 1\n",
    "    ue = 1\n",
    "    r = np.random.uniform(0,1/num_parents)\n",
    "    while (current_member <= num_parents):\n",
    "        while (r <= a[ue]):\n",
    "            mating_pool.append(populacao[ue].tolist())\n",
    "            r = r + 1/num_parents\n",
    "            current_member = current_member + 1\n",
    "        ue = ue + 1\n",
    "    return np.array(mating_pool)\n",
    "\n",
    "def binary_mutation(chromosome, mutation_rate):\n",
    "    for alelo in chromosome:\n",
    "        if np.random.uniform(0,1) < mutation_rate:\n",
    "            alelo = int(not(alelo))\n",
    "    return np.array(chromosome)\n",
    "\n",
    "def eval_bin_mutation(mating_pool, mutation_rate):\n",
    "    return np.array(list(map(lambda i: binary_mutation(mating_pool[i],mutation_rate),range(len(mating_pool)))))\n",
    "\n",
    "def one_pt_crossover(parents, crossover_rate):\n",
    "    i, j = np.random.choice(range(len(parents)),2)\n",
    "    if np.random.uniform(0,1) < crossover_rate:\n",
    "        xchg_pt = np.random.choice(range(len(parents[0])))\n",
    "        child_a = np.hstack((parents[i][:xchg_pt],parents[j][xchg_pt:]))\n",
    "        child_b = np.hstack((parents[j][:xchg_pt],parents[i][xchg_pt:]))\n",
    "    else:\n",
    "        child_a = parents[i]\n",
    "        child_b = parents[j]\n",
    "    return np.array((child_a, child_b))\n",
    "\n",
    "def eval_onept_crossover(parents, crossover_rate, num_crossover):\n",
    "    return np.concatenate(list(map(lambda i: one_pt_crossover(parents, crossover_rate),range(num_crossover))))\n",
    "    "
   ]
  },
  {
   "cell_type": "code",
   "execution_count": 4,
   "metadata": {},
   "outputs": [
    {
     "name": "stdout",
     "output_type": "stream",
     "text": [
      "O mínimo -0.29123 foi encontrado na geração de número 7.\n"
     ]
    }
   ],
   "source": [
    "num_bits = 16\n",
    "num_indv = 100\n",
    "num_parents = 50\n",
    "mutation_rate = 0.2\n",
    "crossover_rate = 0.7\n",
    "num_crossover = int(num_indv/2)\n",
    "num_geracoes = 1000\n",
    "\n",
    "populacao = eval_pop_rand(num_indv, num_bits)\n",
    "pop_fitness = eval_fitness(populacao)\n",
    "best_x = min(pop_fitness)\n",
    "geracao = 0\n",
    "for n in range(num_geracoes):\n",
    "    mating_pool = parent_selection(populacao, pop_fitness, num_parents)\n",
    "    parents_xover = eval_onept_crossover(mating_pool, crossover_rate, num_crossover)\n",
    "    offspring = eval_bin_mutation(parents_xover, mutation_rate)\n",
    "    offspring_fitness = eval_fitness(offspring)\n",
    "    if (min(offspring_fitness) < best_x):\n",
    "        best_x = min(offspring_fitness)\n",
    "        geracao = n\n",
    "    populacao = offspring\n",
    "    pop_fitness = eval_fitness(populacao)\n",
    "print(f'O mínimo {best_x:.5} foi encontrado na geração de número {geracao + 1}.')   "
   ]
  },
  {
   "cell_type": "markdown",
   "metadata": {},
   "source": [
    "#### Comentário:\n",
    "Mesmo utilizando a selação de pais por meio do SUS, a operação de crosssover simples num único ponto, a mutação com \\textit{flip bit} e todos os filhos sendo selecionados para a próxima fase, conseguiu-se chegar ao mínimo global da função proposta."
   ]
  },
  {
   "cell_type": "markdown",
   "metadata": {},
   "source": [
    "# 2ª Questão"
   ]
  },
  {
   "cell_type": "markdown",
   "metadata": {},
   "source": [
    "### Questão 7 do Capítulo 3"
   ]
  },
  {
   "cell_type": "code",
   "execution_count": 5,
   "metadata": {},
   "outputs": [],
   "source": [
    "def init_indv_rand(num_bits):\n",
    "    return [int(bool(b)) for b in np.random.randint(2, size=num_bits)]\n",
    "\n",
    "def eval_pop_rand(num_indv, num_bits):\n",
    "    return np.array(list(map(lambda i: init_indv_rand(num_bits),range(num_indv))))\n",
    "\n",
    "def eval_fenotipo(cromossomo, num_bits):\n",
    "    return sum(cromossomo)\n",
    "\n",
    "def eval_fitness(populacao):\n",
    "    return list(map(lambda i: (eval_fenotipo(list(populacao[i,:]),len(populacao[0]))),range(len(populacao))))\n",
    "\n",
    "def parent_selection(populacao, fitness, num_parents):\n",
    "    fitness = np.array(fitness)\n",
    "    pre_a = (fitness/sum(fitness))\n",
    "    a = np.cumsum(pre_a)\n",
    "    mating_pool = []\n",
    "    current_member = 1\n",
    "    ue = 1\n",
    "    r = np.random.uniform(0,1/num_parents)\n",
    "    while (current_member <= num_parents):\n",
    "        while (r <= a[ue]):\n",
    "            mating_pool.append(populacao[ue].tolist())\n",
    "            r = r + 1/num_parents\n",
    "            current_member = current_member + 1\n",
    "        ue = ue + 1\n",
    "    return np.array(mating_pool)\n",
    "\n",
    "def binary_mutation(chromosome, mutation_rate):\n",
    "    for alelo in chromosome:\n",
    "        if np.random.uniform(0,1) < mutation_rate:\n",
    "            alelo = int(not(alelo))\n",
    "    return np.array(chromosome)\n",
    "\n",
    "def eval_bin_mutation(mating_pool, mutation_rate):\n",
    "    return np.array(list(map(lambda i: binary_mutation(mating_pool[i],mutation_rate),range(len(mating_pool)))))\n",
    "\n",
    "def one_pt_crossover(parents, crossover_rate):\n",
    "    i, j = np.random.choice(range(len(parents)),2)\n",
    "    if np.random.uniform(0,1) < crossover_rate:\n",
    "        xchg_pt = np.random.choice(range(len(parents[0])))\n",
    "        child_a = np.hstack((parents[i][:xchg_pt],parents[j][xchg_pt:]))\n",
    "        child_b = np.hstack((parents[j][:xchg_pt],parents[i][xchg_pt:]))\n",
    "    else:\n",
    "        child_a = parents[i]\n",
    "        child_b = parents[j]\n",
    "    return np.array((child_a, child_b))\n",
    "\n",
    "def eval_onept_crossover(parents, crossover_rate, num_crossover):\n",
    "    return np.concatenate(list(map(lambda i: one_pt_crossover(parents, crossover_rate),range(num_crossover))))   "
   ]
  },
  {
   "cell_type": "code",
   "execution_count": 6,
   "metadata": {},
   "outputs": [
    {
     "name": "stdout",
     "output_type": "stream",
     "text": [
      "O máximo 25 foi encontrado na 39-ésima geração.\n"
     ]
    },
    {
     "data": {
      "image/png": "[encoded data removed]",
      "text/plain": [
       "<Figure size 576x432 with 1 Axes>"
      ]
     },
     "metadata": {},
     "output_type": "display_data"
    }
   ],
   "source": [
    "num_bits = 25\n",
    "num_indv = 100\n",
    "num_parents = 100\n",
    "mutation_rate = 1/num_bits\n",
    "crossover_rate = 0.7\n",
    "num_crossover = int(num_indv/2)\n",
    "num_geracoes = 100\n",
    "\n",
    "populacao = eval_pop_rand(num_indv, num_bits)\n",
    "pop_fitness = eval_fitness(populacao)\n",
    "\n",
    "best_x = max(pop_fitness)\n",
    "best = np.zeros((num_geracoes))\n",
    "worst = np.zeros((num_geracoes))\n",
    "mean = np.zeros((num_geracoes))\n",
    "geracao = 0\n",
    "\n",
    "for n in range(num_geracoes):\n",
    "    mating_pool = parent_selection(populacao, pop_fitness, num_parents)\n",
    "    parents_xover = eval_onept_crossover(mating_pool, crossover_rate, num_crossover)\n",
    "    offspring = eval_bin_mutation(parents_xover, mutation_rate)\n",
    "    offspring_fitness = eval_fitness(offspring)\n",
    "    if (max(offspring_fitness) > best_x):\n",
    "        best_x = max(offspring_fitness)\n",
    "        geracao = n\n",
    "        if best_x == num_bits: break\n",
    "    populacao = offspring\n",
    "    pop_fitness = offspring_fitness\n",
    "    best[n] = max(offspring_fitness)\n",
    "    worst[n] = min(offspring_fitness)\n",
    "    mean[n] = np.mean(offspring_fitness)\n",
    "print(f'O máximo {best_x} foi encontrado na {geracao + 1}-ésima geração.')   \n",
    "\n",
    "sns.lineplot(range(num_geracoes), best, label=\"Best\")\n",
    "sns.lineplot(range(num_geracoes), mean, label=\"Mean\")\n",
    "sns.lineplot(range(num_geracoes), worst, label=\"Worst\")\n",
    "plt.legend(bbox_to_anchor=(1.05, 1), loc=2, borderaxespad=0.)\n",
    "plt.xlabel('gen num')\n",
    "plt.ylabel('fitness')\n",
    "plt.savefig('all.eps',format='eps')\n",
    "plt.show()"
   ]
  },
  {
   "cell_type": "markdown",
   "metadata": {},
   "source": [
    "# 3ª Questão"
   ]
  },
  {
   "cell_type": "markdown",
   "metadata": {},
   "source": [
    "### Questão 5 do Capítulo 4"
   ]
  },
  {
   "cell_type": "code",
   "execution_count": 110,
   "metadata": {},
   "outputs": [],
   "source": [
    "def ackley_func(x):\n",
    "    n = len(x)\n",
    "    return -20*np.exp(-0.2*np.sqrt(1/n * np.sum(x**2))) - np.exp(1/n * np.sum(np.cos(2*np.pi*x))) + 20 + np.exp(1)\n",
    "\n",
    "def init_indv_rand(num_alelo):\n",
    "    return [b for b in np.random.uniform(low=-30, high=30, size=num_alelo)]\n",
    "\n",
    "def eval_pop_rand(num_indv, num_alelo):\n",
    "    return np.array(list(map(lambda i: init_indv_rand(num_alelo), range(num_indv))))\n",
    "\n",
    "def init_sigma_rand(num_alelo):\n",
    "    return [b for b in np.random.normal(loc=0.0, scale=1.0, size=num_alelo)]\n",
    "\n",
    "def eval_sigma_rand(num_indv, num_alelo):\n",
    "    return np.array(list(map(lambda i: init_sigma_rand(num_alelo), range(num_indv))))\n",
    "\n",
    "def eval_fitness(populacao):\n",
    "    return list(map(lambda i: ackley_func(populacao[i]), range(len(populacao))))\n",
    "\n",
    "def uncorr_mut_n_stepsizes(x, sigma):\n",
    "    global_uni = np.random.normal(loc=0.0, scale=1.0)\n",
    "    local_uni = np.random.normal(loc=0.0, scale=1.0, size=len(sigma))\n",
    "    \n",
    "    tau_prime = 1/(np.sqrt(2*len(x)))\n",
    "    tau = 1/(np.sqrt(2*np.sqrt(len(x))))\n",
    "    \n",
    "    eps = 10**-10\n",
    "\n",
    "    sigma_new = sigma * np.exp(tau_prime*global_uni + tau*local_uni)\n",
    "    \n",
    "    for each_sigma in sigma_new:\n",
    "        if each_sigma < eps: each_sigma = eps\n",
    "\n",
    "    x_new = x + sigma_new*local_uni       \n",
    "    return x_new, sigma_new\n",
    "\n",
    "def eval_uncorr_mut(children, sigma_children, num_filhos):\n",
    "    x, sigma = [], []\n",
    "    for child, sigma_child in zip(children, sigma_children):\n",
    "        x_new, sigma_new = uncorr_mut_n_stepsizes(child, sigma_child)\n",
    "        x.append(x_new)\n",
    "        sigma.append(sigma_new)\n",
    "    return np.array(x), np.array(sigma)\n",
    "\n",
    "def globl_discrete_recomb(populacao):\n",
    "    indv_new = np.zeros(len(populacao[0]))\n",
    "    i, j = np.random.choice(range(len(populacao[0])), 2)\n",
    "    for q in range(len(populacao[0])):\n",
    "        if np.random.choice((True, False)):\n",
    "            indv_new[q] = populacao[i][q]\n",
    "        else:\n",
    "            indv_new[q] = populacao[j][q]\n",
    "    return indv_new \n",
    "\n",
    "def eval_global_disc_recomb(populacao, num_filhos):\n",
    "     return np.array(list(map(lambda i: globl_discrete_recomb(populacao),range(num_filhos))))\n",
    "\n",
    "def suvivor_selection(children, num_indv):\n",
    "    idx_sort = np.argsort(eval_fitness(children))\n",
    "    return (children[idx_sort[:num_indv]])"
   ]
  },
  {
   "cell_type": "code",
   "execution_count": 111,
   "metadata": {},
   "outputs": [
    {
     "name": "stdout",
     "output_type": "stream",
     "text": [
      "O mínimo 8.6362 foi encontrado na geração de número 26.\n"
     ]
    }
   ],
   "source": [
    "num_indv = 30\n",
    "num_alelo = 30\n",
    "num_filhos = 200\n",
    "num_geracoes = 500\n",
    "\n",
    "populacao = eval_pop_rand(num_indv, num_alelo)\n",
    "sigma_pop = eval_sigma_rand(num_filhos, num_alelo)\n",
    "best_x = min(eval_fitness(populacao))\n",
    "min_gen = []\n",
    "\n",
    "for i in range(num_geracoes):\n",
    "    children = eval_global_disc_recomb(populacao, num_filhos)\n",
    "    children, sigma_children = eval_uncorr_mut(children, sigma_pop, num_filhos)\n",
    "    offspring = suvivor_selection(children, num_indv)\n",
    "    \n",
    "    offspring_fitness = eval_fitness(offspring)\n",
    "    min_gen.append(min(offspring_fitness))\n",
    "    if (min_gen[i] < best_x):\n",
    "        best_x = min_gen[i]\n",
    "        geracao = i\n",
    "    \n",
    "    populacao = offspring\n",
    "    sigma_pop = sigma_children\n",
    "    \n",
    "print(f'O mínimo {best_x:.5} foi encontrado na geração de número {geracao + 1}.')   "
   ]
  },
  {
   "cell_type": "code",
   "execution_count": 112,
   "metadata": {
    "scrolled": false
   },
   "outputs": [
    {
     "data": {
      "image/png": "[encoded data removed]",
      "text/plain": [
       "<Figure size 576x432 with 1 Axes>"
      ]
     },
     "metadata": {},
     "output_type": "display_data"
    }
   ],
   "source": [
    "sns.lineplot(range(num_geracoes), min_gen, label=\"Min each gen\")\n",
    "plt.legend(bbox_to_anchor=(1.05, 1), loc=2, borderaxespad=0.)\n",
    "plt.xlabel('gen num')\n",
    "plt.ylabel('fitness')\n",
    "plt.show()"
   ]
  }
 ],
 "metadata": {
  "kernelspec": {
   "display_name": "Python 3",
   "language": "python",
   "name": "python3"
  },
  "language_info": {
   "codemirror_mode": {
    "name": "ipython",
    "version": 3
   },
   "file_extension": ".py",
   "mimetype": "text/x-python",
   "name": "python",
   "nbconvert_exporter": "python",
   "pygments_lexer": "ipython3",
   "version": "3.7.3"
  }
 },
 "nbformat": 4,
 "nbformat_minor": 2
}
