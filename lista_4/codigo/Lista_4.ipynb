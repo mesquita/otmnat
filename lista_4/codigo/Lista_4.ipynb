{
 "cells": [
  {
   "cell_type": "code",
   "execution_count": 4,
   "metadata": {},
   "outputs": [],
   "source": [
    "%matplotlib inline\n",
    "\n",
    "import numpy as np\n",
    "import matplotlib.pyplot as plt\n",
    "import seaborn as sns\n",
    "sns.set(style=\"darkgrid\")\n",
    "\n",
    "from scipy.optimize import fmin\n",
    "\n",
    "from sympy import *"
   ]
  },
  {
   "cell_type": "code",
   "execution_count": null,
   "metadata": {},
   "outputs": [],
   "source": [
    "# O esquemático básico é:\n",
    "\n",
    "pop = init_pop_rand\n",
    "avalia_pop(pop)\n",
    "while condicao:\n",
    "    t += 1\n",
    "    selec_pai(pop)\n",
    "    crossover\n",
    "    mutacao\n",
    "    avalia_pop(pop)"
   ]
  },
  {
   "cell_type": "code",
   "execution_count": 230,
   "metadata": {},
   "outputs": [],
   "source": [
    "def funcao_a_minimizar(x):\n",
    "    return x**2 + 0.3*np.cos(10*np.pi*x)\n",
    "\n",
    "def init_indv_rand(num_bits):\n",
    "    return [int(bool(b)) for b in np.random.randint(2, size=num_bits)]\n",
    "\n",
    "def bin_from_gray(g):\n",
    "    b = [g[-1]]\n",
    "    for n in g[-2::-1]:\n",
    "        b.insert(0, b[0]^n)\n",
    "    return b\n",
    "    \n",
    "def fenotipo(cromossomo, num_bits):\n",
    "    b = bin_from_gray(cromossomo)\n",
    "    u = sum(2**k for k in range(num_bits) if b[k])\n",
    "    u /= 2**num_bits\n",
    "    return -2 + 4 * u\n",
    "    \n",
    "def constroi_pop_rand(num_indv,num_bits):\n",
    "    pop = []\n",
    "    for i in range(num_indv):\n",
    "        indv = init_indv_rand(num_bits)\n",
    "        pop.append(indv)\n",
    "        indv = []\n",
    "    return np.array(pop)\n",
    "\n",
    "def calc_fitness(populacao,num_indv,num_bits):\n",
    "    fitness = []\n",
    "    for i in range(num_indv):\n",
    "        fitness.append(funcao_a_minimizar(fenotipo(list(populacao[i,:]),num_bits)))\n",
    "    return fitness\n",
    "\n",
    "num_bits = 16\n",
    "num_indv = 5\n",
    "\n",
    "# inicializa a populacao de forma aleatoria\n",
    "populacao = constroi_pop_rand(num_indv,num_bits)\n",
    "\n",
    "# avalia a populacao inicial\n",
    "fitness = calc_fitness(populacao,num_indv,num_bits)\n"
   ]
  },
  {
   "cell_type": "raw",
   "metadata": {},
   "source": []
  }
 ],
 "metadata": {
  "kernelspec": {
   "display_name": "Python 3",
   "language": "python",
   "name": "python3"
  },
  "language_info": {
   "codemirror_mode": {
    "name": "ipython",
    "version": 3
   },
   "file_extension": ".py",
   "mimetype": "text/x-python",
   "name": "python",
   "nbconvert_exporter": "python",
   "pygments_lexer": "ipython3",
   "version": "3.7.1"
  }
 },
 "nbformat": 4,
 "nbformat_minor": 2
}
