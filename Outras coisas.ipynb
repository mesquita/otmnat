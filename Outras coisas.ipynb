{
 "cells": [
  {
   "cell_type": "code",
   "execution_count": 1,
   "metadata": {},
   "outputs": [],
   "source": [
    "%matplotlib inline\n",
    "\n",
    "import numpy as np\n",
    "import matplotlib.pyplot as plt\n",
    "import seaborn as sns\n",
    "sns.set(style=\"darkgrid\")\n",
    "\n",
    "from scipy.optimize import fmin\n",
    "\n",
    "from sympy import *"
   ]
  },
  {
   "cell_type": "code",
   "execution_count": 2,
   "metadata": {},
   "outputs": [
    {
     "name": "stdout",
     "output_type": "stream",
     "text": [
      "o valor do integral é 0.4994666501663384\n"
     ]
    }
   ],
   "source": [
    "x = np.random.uniform(0,1,100000)\n",
    "# p_x = np.random.exponential(0.5,1000000) \n",
    "p_x = 2*np.exp(-2*x)\n",
    "integral = 1/len(x) * np.sum(x)\n",
    "\n",
    "print(f'o valor do integral é {integral}')"
   ]
  },
  {
   "cell_type": "code",
   "execution_count": 25,
   "metadata": {},
   "outputs": [
    {
     "name": "stdout",
     "output_type": "stream",
     "text": [
      "o valor do integral é 0.45405879452747894\n"
     ]
    }
   ],
   "source": [
    "# mu, sigma = 2, 1 # mean and standard deviation\n",
    "# x = np.random.normal(mu, sigma, 10000)\n",
    "\n",
    "x = np.random.uniform(0,2,1000000)\n",
    "\n",
    "#p_x = (2*np.exp(-2*x))/(1-(1/np.exp(4)))\n",
    "p_x = np.random.exponential(0.5,1000000) \n",
    "\n",
    "p_x_menor_2 = p_x[p_x <= 2]\n",
    "\n",
    "integral = 1/len(p_x) * np.sum(p_x_menor_2)\n",
    "\n",
    "print(f'o valor do integral é {integral}')"
   ]
  },
  {
   "cell_type": "code",
   "execution_count": 4,
   "metadata": {},
   "outputs": [
    {
     "data": {
      "image/png": "[encoded data removed]",
      "text/plain": [
       "<Figure size 432x288 with 1 Axes>"
      ]
     },
     "metadata": {
      "needs_background": "light"
     },
     "output_type": "display_data"
    },
    {
     "data": {
      "image/png": "[encoded data removed]",
      "text/plain": [
       "<Figure size 432x288 with 1 Axes>"
      ]
     },
     "metadata": {
      "needs_background": "light"
     },
     "output_type": "display_data"
    }
   ],
   "source": [
    "import matplotlib.pyplot as plt\n",
    "\n",
    "p_x = np.random.exponential(0.5,1000000) \n",
    "p_x_menor_2 = p_x[p_x <= 2]\n",
    "\n",
    "count, bins, ignored = plt.hist(p_x_menor_2, 15, density=True)\n",
    "plt.plot(bins, np.ones_like(bins), linewidth=2, color='r')\n",
    "plt.show()\n",
    "#############################################################\n",
    "p_x = (2*np.exp(-2*x))/(1-(1/np.exp(4)))\n",
    "p_x_menor_2 = p_x[p_x <= 2]\n",
    "\n",
    "count, bins, ignored = plt.hist(p_x_menor_2, 15, density=True)\n",
    "plt.plot(bins, np.ones_like(bins), linewidth=2, color='r')\n",
    "plt.show()"
   ]
  },
  {
   "cell_type": "code",
   "execution_count": 5,
   "metadata": {},
   "outputs": [
    {
     "name": "stdout",
     "output_type": "stream",
     "text": [
      "o valor do integral é 0.2645881302181102\n"
     ]
    }
   ],
   "source": [
    "# mu, sigma = 0, 1 # mean and standard deviation\n",
    "# x = np.random.normal(mu, sigma, 1000000)\n",
    "\n",
    "x = np.random.uniform(0,1,1000000)\n",
    "\n",
    "# p_x = (np.exp(-x))/(1-(1/np.exp(1)))\n",
    "\n",
    "p_x = np.random.exponential(1,1000000) \n",
    "p_x_menor_1 = p_x[p_x <= 1]\n",
    "\n",
    "\n",
    "integral = 1/len(p_x) * np.sum(p_x_menor_1)\n",
    "\n",
    "print(f'o valor do integral é {integral}')"
   ]
  },
  {
   "cell_type": "code",
   "execution_count": 6,
   "metadata": {},
   "outputs": [
    {
     "data": {
      "image/png": "[encoded data removed]",
      "text/plain": [
       "<Figure size 432x288 with 1 Axes>"
      ]
     },
     "metadata": {
      "needs_background": "light"
     },
     "output_type": "display_data"
    },
    {
     "data": {
      "image/png": "[encoded data removed]",
      "text/plain": [
       "<Figure size 432x288 with 1 Axes>"
      ]
     },
     "metadata": {
      "needs_background": "light"
     },
     "output_type": "display_data"
    }
   ],
   "source": [
    "import matplotlib.pyplot as plt\n",
    "\n",
    "p_x = np.random.exponential(1,1000000) \n",
    "p_x_menor_1 = p_x[p_x <= 1]\n",
    "\n",
    "count, bins, ignored = plt.hist(p_x_menor_1, 15, density=True)\n",
    "plt.plot(bins, np.ones_like(bins), linewidth=2, color='r')\n",
    "plt.show()\n",
    "#############################################################\n",
    "p_x = p_x = (np.exp(-x))/(1-(1/np.exp(1)))\n",
    "p_x_menor_1 = p_x[p_x <= 1]\n",
    "\n",
    "count, bins, ignored = plt.hist(p_x_menor_1, 15, density=True)\n",
    "plt.plot(bins, np.ones_like(bins), linewidth=2, color='r')\n",
    "plt.show()"
   ]
  },
  {
   "cell_type": "code",
   "execution_count": 10,
   "metadata": {},
   "outputs": [
    {
     "data": {
      "text/plain": [
       "0.018522989125022322"
      ]
     },
     "execution_count": 10,
     "metadata": {},
     "output_type": "execute_result"
    }
   ],
   "source": [
    "tripla = (integral**3)\n",
    "tripla"
   ]
  },
  {
   "cell_type": "code",
   "execution_count": 33,
   "metadata": {},
   "outputs": [
    {
     "name": "stdout",
     "output_type": "stream",
     "text": [
      "valor da integral é 15.172910360424291\n"
     ]
    },
    {
     "data": {
      "image/png": "[encoded data removed]",
      "text/plain": [
       "<Figure size 432x288 with 1 Axes>"
      ]
     },
     "metadata": {
      "needs_background": "light"
     },
     "output_type": "display_data"
    }
   ],
   "source": [
    "integral = 0\n",
    "x_atual = 4\n",
    "x_atual_todos = np.array([x_atual])\n",
    "for n in range(1,10**5 + 1):\n",
    "    x_hat = x_atual + 0.5*(np.random.uniform(0,1) - 0.5)\n",
    "    if (x_hat < 3):\n",
    "        x_hat = x_hat + 2\n",
    "    if (x_hat > 5):\n",
    "        x_hat = x_hat - 2\n",
    "    if (np.random.uniform(0,1) < (x_atual**2 + 1)/(x_hat**2 + 1)):\n",
    "        x_atual = x_hat\n",
    "    if (n > 90*10**3):\n",
    "        integral = integral + x_atual**2\n",
    "    x_atual_todos = np.append(x_atual_todos,x_atual)\n",
    "integral = integral/10**4\n",
    "print(f'valor da integral é {integral}')\n",
    "\n",
    "count, bins, ignored = plt.hist(x_atual_todos, 15, density=True)\n",
    "plt.plot(bins, np.ones_like(bins), linewidth=2, color='r')\n",
    "plt.show()"
   ]
  },
  {
   "cell_type": "code",
   "execution_count": null,
   "metadata": {},
   "outputs": [],
   "source": []
  }
 ],
 "metadata": {
  "kernelspec": {
   "display_name": "Python 3",
   "language": "python",
   "name": "python3"
  },
  "language_info": {
   "codemirror_mode": {
    "name": "ipython",
    "version": 3
   },
   "file_extension": ".py",
   "mimetype": "text/x-python",
   "name": "python",
   "nbconvert_exporter": "python",
   "pygments_lexer": "ipython3",
   "version": "3.7.1"
  }
 },
 "nbformat": 4,
 "nbformat_minor": 2
}
