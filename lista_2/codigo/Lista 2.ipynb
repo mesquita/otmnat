{
 "cells": [
  {
   "cell_type": "code",
   "execution_count": 1,
   "metadata": {},
   "outputs": [],
   "source": [
    "%matplotlib inline\n",
    "\n",
    "import numpy as np\n",
    "import matplotlib.pyplot as plt\n",
    "import seaborn as sns\n",
    "sns.set(style=\"darkgrid\")\n",
    "\n",
    "from scipy.optimize import fmin\n",
    "\n",
    "from sympy import *"
   ]
  },
  {
   "cell_type": "markdown",
   "metadata": {},
   "source": [
    "# Questão 1"
   ]
  },
  {
   "cell_type": "code",
   "execution_count": null,
   "metadata": {},
   "outputs": [],
   "source": [
    "M = np.matrix('0.50 0.25 0.25; 0.25 0.50 0.25; 0.25 0.25 0.50')\n",
    "M"
   ]
  },
  {
   "cell_type": "code",
   "execution_count": 154,
   "metadata": {},
   "outputs": [
    {
     "data": {
      "text/plain": [
       "array([0.25, 1.  , 0.25])"
      ]
     },
     "execution_count": 154,
     "metadata": {},
     "output_type": "execute_result"
    }
   ],
   "source": [
    "autovalores,autovetores = np.linalg.eig(M)\n",
    "\n",
    "autovalores"
   ]
  },
  {
   "cell_type": "code",
   "execution_count": 155,
   "metadata": {},
   "outputs": [
    {
     "data": {
      "text/plain": [
       "matrix([[0.33333333],\n",
       "        [0.33333333],\n",
       "        [0.33333333]])"
      ]
     },
     "execution_count": 155,
     "metadata": {},
     "output_type": "execute_result"
    }
   ],
   "source": [
    "vetor_pi = autovetores[:,1]/np.sum(autovetores[:,1])\n",
    "vetor_pi"
   ]
  },
  {
   "cell_type": "markdown",
   "metadata": {},
   "source": [
    "### Item (a)"
   ]
  },
  {
   "cell_type": "code",
   "execution_count": 3,
   "metadata": {},
   "outputs": [
    {
     "name": "stdout",
     "output_type": "stream",
     "text": [
      "soma das probabilidades em X(3): 1.0\n"
     ]
    },
    {
     "data": {
      "text/plain": [
       "matrix([[0.3328125],\n",
       "        [0.334375 ],\n",
       "        [0.3328125]])"
      ]
     },
     "execution_count": 3,
     "metadata": {},
     "output_type": "execute_result"
    }
   ],
   "source": [
    "p_zero = np.vstack(np.array([0.3, 0.4, 0.3]))\n",
    "\n",
    "# Calcular a distribuição de probabilidade X(3)\n",
    "p_um = M*p_zero\n",
    "p_dois = M*p_um\n",
    "p_tres = M*p_dois\n",
    "print(f'soma das probabilidades em X(3): {np.sum(p_tres)}')\n",
    "p_tres"
   ]
  },
  {
   "cell_type": "markdown",
   "metadata": {},
   "source": [
    "### Item (b)"
   ]
  },
  {
   "cell_type": "code",
   "execution_count": 4,
   "metadata": {},
   "outputs": [
    {
     "name": "stdout",
     "output_type": "stream",
     "text": [
      "No tempo 1 => Mudança de estado: de 1 para 1. Uniforme sorteado foi 0.223.\n",
      "No tempo 2 => Mudança de estado: de 1 para 1. Uniforme sorteado foi 0.101.\n",
      "No tempo 3 => Mudança de estado: de 1 para 1. Uniforme sorteado foi 0.22.\n"
     ]
    }
   ],
   "source": [
    "M = np.matrix('0.50 0.25 0.25; 0.25 0.50 0.25; 0.25 0.25 0.50')\n",
    "estado_atual = 1\n",
    "tempos_possiveis = np.array([1, 2, 3])\n",
    "soma_coluna = 0\n",
    "\n",
    "iterador = 0\n",
    "\n",
    "for t in tempos_possiveis:\n",
    "    uniforme_sorteado = np.random.uniform(0,1)\n",
    "    while uniforme_sorteado > soma_coluna:\n",
    "        soma_coluna = soma_coluna + M[estado_atual,iterador]\n",
    "        iterador += 1\n",
    "    print(f'No tempo {t} => Mudança de estado: de {estado_atual} para {iterador}. Uniforme sorteado foi {uniforme_sorteado:.3}.')\n",
    "    estado_atual = iterador"
   ]
  },
  {
   "cell_type": "markdown",
   "metadata": {},
   "source": [
    "### Item (c)"
   ]
  },
  {
   "cell_type": "code",
   "execution_count": 147,
   "metadata": {},
   "outputs": [],
   "source": [
    "numero_iteracoes = 10**5\n",
    "escolhas = np.random.choice(3, numero_iteracoes)\n",
    "M = np.matrix('0.50 0.25 0.25; 0.25 0.50 0.25; 0.25 0.25 0.50')\n",
    "tempos_possiveis = np.array([0, 1, 2, 3])\n",
    "X = np.zeros((numero_iteracoes,4))\n",
    "\n",
    "\n",
    "for iteracoes in range(0,numero_iteracoes):\n",
    "    soma_coluna = 0\n",
    "    iterador = 0\n",
    "    estado_inicial = escolhas[iteracoes]\n",
    "    estado_atual = estado_inicial\n",
    "    \n",
    "    for t in tempos_possiveis:\n",
    "        X[iteracoes,t] = estado_atual\n",
    "        uniforme_sorteado = np.random.uniform(0,1)\n",
    "        while uniforme_sorteado > soma_coluna:\n",
    "            soma_coluna = soma_coluna + M[estado_atual,iterador]\n",
    "            iterador += 1\n",
    "        estado_atual = iterador"
   ]
  },
  {
   "cell_type": "markdown",
   "metadata": {},
   "source": [
    "### Item (d)"
   ]
  },
  {
   "cell_type": "code",
   "execution_count": 146,
   "metadata": {},
   "outputs": [
    {
     "data": {
      "image/png": "[encoded data removed]",
      "text/plain": [
       "<Figure size 432x288 with 1 Axes>"
      ]
     },
     "metadata": {
      "needs_background": "light"
     },
     "output_type": "display_data"
    },
    {
     "data": {
      "image/png": "[encoded data removed]",
      "text/plain": [
       "<Figure size 432x288 with 1 Axes>"
      ]
     },
     "metadata": {
      "needs_background": "light"
     },
     "output_type": "display_data"
    },
    {
     "data": {
      "image/png": "[encoded data removed]",
      "text/plain": [
       "<Figure size 432x288 with 1 Axes>"
      ]
     },
     "metadata": {
      "needs_background": "light"
     },
     "output_type": "display_data"
    },
    {
     "data": {
      "image/png": "[encoded data removed]",
      "text/plain": [
       "<Figure size 432x288 with 1 Axes>"
      ]
     },
     "metadata": {
      "needs_background": "light"
     },
     "output_type": "display_data"
    }
   ],
   "source": [
    "count, bins, ignored = plt.hist(X[:,0], 15, density=True)\n",
    "plt.plot(bins, np.ones_like(bins), linewidth=2, color='r')\n",
    "plt.savefig('t_zero.eps',format='eps')\n",
    "plt.show()\n",
    "count, bins, ignored = plt.hist(X[:,1], 15, density=True)\n",
    "plt.plot(bins, np.ones_like(bins), linewidth=2, color='r')\n",
    "plt.savefig('t_um.eps',format='eps')\n",
    "plt.show()\n",
    "count, bins, ignored = plt.hist(X[:,2], 15, density=True)\n",
    "plt.plot(bins, np.ones_like(bins), linewidth=2, color='r')\n",
    "plt.savefig('t_dois.eps',format='eps')\n",
    "plt.show()\n",
    "count, bins, ignored = plt.hist(X[:,3], 15, density=True)\n",
    "plt.plot(bins, np.ones_like(bins), linewidth=2, color='r')\n",
    "plt.savefig('t_tres.eps',format='eps')\n",
    "plt.show()"
   ]
  },
  {
   "cell_type": "markdown",
   "metadata": {},
   "source": [
    "# Questão 2"
   ]
  },
  {
   "cell_type": "code",
   "execution_count": 7,
   "metadata": {},
   "outputs": [],
   "source": [
    "# estados possíveis\n",
    "estados_possiveis = np.array([1, 2, 3, 4, 5])\n",
    "energias_possiveis = np.array([0.5, 0.2, 0.3, 0.1, 0.4])"
   ]
  },
  {
   "cell_type": "markdown",
   "metadata": {},
   "source": [
    "### Item (a)"
   ]
  },
  {
   "cell_type": "code",
   "execution_count": 8,
   "metadata": {},
   "outputs": [
    {
     "data": {
      "text/plain": [
       "array([[0.2       , 0.00995741, 0.02706706, 0.00366313, 0.07357589],\n",
       "       [0.2       , 0.68939964, 0.2       , 0.07357589, 0.2       ],\n",
       "       [0.2       , 0.07357589, 0.49935706, 0.02706706, 0.2       ],\n",
       "       [0.2       , 0.2       , 0.2       , 0.88573651, 0.2       ],\n",
       "       [0.2       , 0.02706706, 0.07357589, 0.00995741, 0.32642411]])"
      ]
     },
     "execution_count": 8,
     "metadata": {},
     "output_type": "execute_result"
    }
   ],
   "source": [
    "# estados possíveis\n",
    "estados_possiveis = np.array([1, 2, 3, 4, 5])\n",
    "energias_possiveis = np.array([0.5, 0.2, 0.3, 0.1, 0.4])\n",
    "temperatura = 0.1\n",
    "\n",
    "#A matriz de transição M, que será 5x5\n",
    "M = np.zeros((5,5))\n",
    "qtd_estados_possiveis = len(estados_possiveis)\n",
    "\n",
    "for iterador_fora in range(0,qtd_estados_possiveis):\n",
    "    for iterador_dentro in range(0,qtd_estados_possiveis):\n",
    "        delta_J = energias_possiveis[iterador_fora] - energias_possiveis[iterador_dentro]\n",
    "        \n",
    "        if (delta_J > 0):\n",
    "            M[iterador_dentro,iterador_fora] = 1/qtd_estados_possiveis\n",
    "        else:\n",
    "            if iterador_dentro == iterador_fora:\n",
    "                M[iterador_dentro,iterador_fora] =  M[iterador_fora,iterador_fora] + 1/(qtd_estados_possiveis)*(np.exp(delta_J/temperatura))\n",
    "                M[iterador_fora,iterador_fora] =  M[iterador_fora,iterador_fora] + 1/(qtd_estados_possiveis)*((1 - np.exp(delta_J/temperatura)))\n",
    "            else:\n",
    "                M[iterador_dentro,iterador_fora] = 1/(qtd_estados_possiveis)*(np.exp(delta_J/temperatura))\n",
    "                M[iterador_fora,iterador_fora] =  M[iterador_fora,iterador_fora] + 1/(qtd_estados_possiveis)*((1 - np.exp(delta_J/temperatura)))\n",
    "M"
   ]
  },
  {
   "cell_type": "markdown",
   "metadata": {},
   "source": [
    "### Item (b)"
   ]
  },
  {
   "cell_type": "code",
   "execution_count": 9,
   "metadata": {},
   "outputs": [
    {
     "data": {
      "text/plain": [
       "array([[0.2       , 0.00995741, 0.02706706, 0.00366313, 0.07357589],\n",
       "       [0.2       , 0.68939964, 0.2       , 0.07357589, 0.2       ],\n",
       "       [0.2       , 0.07357589, 0.49935706, 0.02706706, 0.2       ],\n",
       "       [0.2       , 0.2       , 0.2       , 0.88573651, 0.2       ],\n",
       "       [0.2       , 0.02706706, 0.07357589, 0.00995741, 0.32642411]])"
      ]
     },
     "execution_count": 9,
     "metadata": {},
     "output_type": "execute_result"
    }
   ],
   "source": [
    "M"
   ]
  },
  {
   "cell_type": "code",
   "execution_count": 10,
   "metadata": {},
   "outputs": [
    {
     "name": "stdout",
     "output_type": "stream",
     "text": [
      "No tempo 1 => Mudança de estado: de 1 para 2. Uniforme sorteado foi 0.431.\n",
      "No tempo 2 => Mudança de estado: de 2 para 2. Uniforme sorteado foi 0.227.\n",
      "No tempo 3 => Mudança de estado: de 2 para 2. Uniforme sorteado foi 0.148.\n",
      "No tempo 4 => Mudança de estado: de 2 para 2. Uniforme sorteado foi 0.145.\n"
     ]
    }
   ],
   "source": [
    "estado_atual = 1\n",
    "tempos_possiveis = np.array([1, 2, 3, 4])\n",
    "soma_coluna = 0\n",
    "\n",
    "iterador = 0\n",
    "\n",
    "for t in tempos_possiveis:\n",
    "    uniforme_sorteado = np.random.uniform(0,1)\n",
    "    while uniforme_sorteado > soma_coluna:\n",
    "        soma_coluna = soma_coluna + M[estado_atual,iterador]\n",
    "        iterador += 1\n",
    "    print(f'No tempo {t} => Mudança de estado: de {estado_atual} para {iterador}. Uniforme sorteado foi {uniforme_sorteado:.3}.')\n",
    "    estado_atual = iterador"
   ]
  },
  {
   "cell_type": "markdown",
   "metadata": {},
   "source": [
    "### Item (c)"
   ]
  },
  {
   "cell_type": "code",
   "execution_count": 11,
   "metadata": {},
   "outputs": [],
   "source": [
    "autovalores,autovetores = np.linalg.eig(M)"
   ]
  },
  {
   "cell_type": "code",
   "execution_count": 18,
   "metadata": {},
   "outputs": [
    {
     "data": {
      "text/plain": [
       "array([0.01165623, 0.23412166, 0.08612854, 0.63640865, 0.03168492])"
      ]
     },
     "execution_count": 18,
     "metadata": {},
     "output_type": "execute_result"
    }
   ],
   "source": [
    "vetor_pi = autovetores[:,0]/np.sum(autovetores[:,0])\n",
    "vetor_pi"
   ]
  },
  {
   "cell_type": "markdown",
   "metadata": {},
   "source": [
    "### Item (d)"
   ]
  },
  {
   "cell_type": "code",
   "execution_count": 13,
   "metadata": {},
   "outputs": [
    {
     "data": {
      "text/plain": [
       "array([0.01165623, 0.23412166, 0.08612854, 0.63640865, 0.03168492])"
      ]
     },
     "execution_count": 13,
     "metadata": {},
     "output_type": "execute_result"
    }
   ],
   "source": [
    "fatores_boltzmann = np.exp(-energias_possiveis/temperatura)\n",
    "\n",
    "outro_vetor_pi = fatores_boltzmann/np.sum(fatores_boltzmann)\n",
    "outro_vetor_pi"
   ]
  },
  {
   "cell_type": "markdown",
   "metadata": {},
   "source": [
    "### Item (e)"
   ]
  },
  {
   "cell_type": "code",
   "execution_count": 14,
   "metadata": {},
   "outputs": [
    {
     "data": {
      "image/png": "[encoded data removed]",
      "text/plain": [
       "<Figure size 432x288 with 1 Axes>"
      ]
     },
     "metadata": {
      "needs_background": "light"
     },
     "output_type": "display_data"
    }
   ],
   "source": [
    "temperaturas = np.array([0.1, 0.0631, 0.05, 0.0431, 0.0387, 0.0356, 0.0333, 0.0315, 0.0301, 0.0289])\n",
    "qtd_temperaturas = len(temperaturas)\n",
    "total_iteracoes = 1000\n",
    "estados_possiveis = np.array([0, 1, 2, 3, 4])\n",
    "qtd_estados_possiveis = len(estados_possiveis)\n",
    "energias_possiveis = np.array([0.5, 0.2, 0.3, 0.1, 0.4])\n",
    "\n",
    "histogram_matrix = np.zeros((qtd_estados_possiveis,qtd_temperaturas))\n",
    "estado_inicial = np.random.choice(qtd_estados_possiveis)\n",
    "estado_atual = estado_inicial\n",
    "J_inicial = energias_possiveis[estado_inicial]\n",
    "J_atual = J_inicial\n",
    "\n",
    "todos_J = np.zeros((total_iteracoes,qtd_temperaturas))\n",
    "todos_estados = np.zeros((total_iteracoes,qtd_temperaturas))\n",
    "\n",
    "for iterador_fora in range(0,qtd_temperaturas):\n",
    "    for iterador_dentro in range(0,total_iteracoes):\n",
    "        estado_possivel = np.random.choice(qtd_estados_possiveis)\n",
    "        J = energias_possiveis[estado_possivel]\n",
    "        r = np.random.uniform(0,1)\n",
    "        if (r <  np.exp((J_atual-J)/temperaturas[iterador_fora])):\n",
    "            estado_atual = estado_possivel\n",
    "            J_atual = J\n",
    "        todos_estados[iterador_dentro,iterador_fora] = estado_atual\n",
    "        todos_J[iterador_dentro,iterador_fora] = J_atual\n",
    "    histogram_matrix[:,iterador_fora], binq, outroq =  plt.hist(todos_estados[:,iterador_fora], qtd_estados_possiveis, density=True)   \n",
    "    histogram_matrix[:,iterador_fora] = histogram_matrix[:,iterador_fora] / np.sum(histogram_matrix[:,iterador_fora] )"
   ]
  },
  {
   "cell_type": "code",
   "execution_count": 15,
   "metadata": {},
   "outputs": [
    {
     "data": {
      "text/plain": [
       "array([[0.009, 0.159, 0.111, 0.051, 0.046, 0.039, 0.057, 0.012, 0.057,\n",
       "        0.022],\n",
       "       [0.216, 0.028, 0.008, 0.   , 0.   , 0.   , 0.   , 0.   , 0.   ,\n",
       "        0.   ],\n",
       "       [0.064, 0.   , 0.   , 0.   , 0.001, 0.   , 0.004, 0.001, 0.   ,\n",
       "        0.002],\n",
       "       [0.693, 0.81 , 0.88 , 0.   , 0.   , 0.   , 0.   , 0.   , 0.   ,\n",
       "        0.   ],\n",
       "       [0.018, 0.003, 0.001, 0.949, 0.953, 0.961, 0.939, 0.987, 0.943,\n",
       "        0.976]])"
      ]
     },
     "execution_count": 15,
     "metadata": {},
     "output_type": "execute_result"
    }
   ],
   "source": [
    "histogram_matrix"
   ]
  },
  {
   "cell_type": "markdown",
   "metadata": {},
   "source": [
    "# Questão 3"
   ]
  },
  {
   "cell_type": "markdown",
   "metadata": {},
   "source": [
    "A função escolhida:\n",
    "$$f(\\mathbf{x}) = $$"
   ]
  },
  {
   "cell_type": "code",
   "execution_count": 156,
   "metadata": {},
   "outputs": [
    {
     "data": {
      "image/png": "[encoded data removed]",
      "text/plain": [
       "<Figure size 432x288 with 1 Axes>"
      ]
     },
     "metadata": {
      "needs_background": "light"
     },
     "output_type": "display_data"
    }
   ],
   "source": [
    "# Plot da função J\n",
    "pt_inicial = 0\n",
    "pt_final = 4\n",
    "x = np.linspace(pt_inicial, pt_final)\n",
    "\n",
    "y = np.cos(x)*np.cos(2*x)\n",
    "sns.lineplot(x,y)\n",
    "plt.xlabel('x')\n",
    "plt.savefig('cos.eps',format='eps')\n",
    "plt.show()"
   ]
  },
  {
   "cell_type": "code",
   "execution_count": 157,
   "metadata": {},
   "outputs": [
    {
     "name": "stdout",
     "output_type": "stream",
     "text": [
      "Optimization terminated successfully.\n",
      "         Current function value: -0.272166\n",
      "         Iterations: 13\n",
      "         Function evaluations: 26\n"
     ]
    },
    {
     "data": {
      "text/plain": [
       "array([1.15025621])"
      ]
     },
     "execution_count": 157,
     "metadata": {},
     "output_type": "execute_result"
    }
   ],
   "source": [
    "from scipy import optimize\n",
    "\n",
    "def chosen_function(x):\n",
    "    return np.cos(x)*np.cos(2*x)\n",
    "\n",
    "pt_inicial = np.random.uniform(0,4)\n",
    "optimize.fmin(chosen_function,pt_inicial)"
   ]
  },
  {
   "cell_type": "code",
   "execution_count": 158,
   "metadata": {},
   "outputs": [
    {
     "data": {
      "text/plain": [
       "-1.1483654374936085"
      ]
     },
     "execution_count": 158,
     "metadata": {},
     "output_type": "execute_result"
    }
   ],
   "source": [
    "J_inicial = chosen_function(pt_inicial)\n",
    "pt_atual = pt_inicial\n",
    "J_atual = J_inicial\n",
    "\n",
    "# Parâmetros utilizados\n",
    "N = 100\n",
    "K = 8\n",
    "T_inicial = 5e-1\n",
    "T = T_inicial\n",
    "epsilon = 10e-2\n",
    "\n",
    "fim = 0\n",
    "n = 0\n",
    "k = 1\n",
    "J_min = J_atual\n",
    "pt_min = pt_atual\n",
    "\n",
    "while not(fim):\n",
    "    n = n + 1\n",
    "    pt = pt_atual + epsilon*(np.random.normal(0, 1))\n",
    "    J = chosen_function(pt)\n",
    "    todos_J = np.append(todos_J,J)\n",
    "    if (np.random.uniform(0,1) < np.exp((J_atual-J)/T)):\n",
    "        pt_atual = pt\n",
    "        J_atual = J\n",
    "    if (J < J_min):\n",
    "        J_min = J\n",
    "        pt_min = pt\n",
    "    if (n % N == 0):\n",
    "        k = k + 1\n",
    "        T = T_inicial/(np.log(1+k))\n",
    "        if k == K:\n",
    "            fim = 1\n",
    "pt_min"
   ]
  }
 ],
 "metadata": {
  "kernelspec": {
   "display_name": "Python 3",
   "language": "python",
   "name": "python3"
  },
  "language_info": {
   "codemirror_mode": {
    "name": "ipython",
    "version": 3
   },
   "file_extension": ".py",
   "mimetype": "text/x-python",
   "name": "python",
   "nbconvert_exporter": "python",
   "pygments_lexer": "ipython3",
   "version": "3.7.1"
  }
 },
 "nbformat": 4,
 "nbformat_minor": 2
}
