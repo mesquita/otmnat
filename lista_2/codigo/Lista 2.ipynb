{
 "cells": [
  {
   "cell_type": "code",
   "execution_count": 4,
   "metadata": {},
   "outputs": [],
   "source": [
    "%matplotlib inline\n",
    "\n",
    "import numpy as np\n",
    "import matplotlib.pyplot as plt\n",
    "import seaborn as sns\n",
    "sns.set(style=\"darkgrid\")\n",
    "\n",
    "from scipy.optimize import fmin\n",
    "\n",
    "from sympy import *"
   ]
  },
  {
   "cell_type": "markdown",
   "metadata": {},
   "source": [
    "# Questão 1"
   ]
  },
  {
   "cell_type": "code",
   "execution_count": 9,
   "metadata": {},
   "outputs": [
    {
     "data": {
      "text/plain": [
       "matrix([[0.5 , 0.25, 0.25],\n",
       "        [0.25, 0.5 , 0.25],\n",
       "        [0.25, 0.25, 0.5 ]])"
      ]
     },
     "execution_count": 9,
     "metadata": {},
     "output_type": "execute_result"
    }
   ],
   "source": [
    "M = np.matrix('0.50 0.25 0.25; 0.25 0.50 0.25; 0.25 0.25 0.50')\n",
    "M"
   ]
  },
  {
   "cell_type": "markdown",
   "metadata": {},
   "source": [
    "### Item (a)"
   ]
  },
  {
   "cell_type": "code",
   "execution_count": 6,
   "metadata": {},
   "outputs": [
    {
     "name": "stdout",
     "output_type": "stream",
     "text": [
      "soma das probabilidades em X(3): 1.0\n"
     ]
    },
    {
     "data": {
      "text/plain": [
       "matrix([[0.3328125],\n",
       "        [0.334375 ],\n",
       "        [0.3328125]])"
      ]
     },
     "execution_count": 6,
     "metadata": {},
     "output_type": "execute_result"
    }
   ],
   "source": [
    "p_zero = np.vstack(np.array([0.3, 0.4, 0.3]))\n",
    "\n",
    "# Calcular a distribuição de probabilidade X(3)\n",
    "p_um = M*p_zero\n",
    "p_dois = M*p_um\n",
    "p_tres = M*p_dois\n",
    "print(f'soma das probabilidades em X(3): {np.sum(p_tres)}')\n",
    "p_tres"
   ]
  },
  {
   "cell_type": "markdown",
   "metadata": {},
   "source": [
    "### Item (b)"
   ]
  },
  {
   "cell_type": "code",
   "execution_count": 122,
   "metadata": {},
   "outputs": [
    {
     "name": "stdout",
     "output_type": "stream",
     "text": [
      "No tempo 1 => Mudança de estado: de 1 para 2. Uniforme sorteado foi 0.342.\n",
      "No tempo 2 => Mudança de estado: de 2 para 2. Uniforme sorteado foi 0.126.\n",
      "No tempo 3 => Mudança de estado: de 2 para 2. Uniforme sorteado foi 0.506.\n"
     ]
    }
   ],
   "source": [
    "M = np.matrix('0.50 0.25 0.25; 0.25 0.50 0.25; 0.25 0.25 0.50')\n",
    "estado_atual = 1\n",
    "tempos_possiveis = np.array([1, 2, 3])\n",
    "soma_coluna = 0\n",
    "\n",
    "iterador = 0\n",
    "\n",
    "for t in tempos_possiveis:\n",
    "    uniforme_sorteado = np.random.uniform(0,1)\n",
    "    while uniforme_sorteado > soma_coluna:\n",
    "        soma_coluna = soma_coluna + M[estado_atual,iterador]\n",
    "        iterador += 1\n",
    "    print(f'No tempo {t} => Mudança de estado: de {estado_atual} para {iterador}. Uniforme sorteado foi {uniforme_sorteado:.3}.')\n",
    "    estado_atual = iterador"
   ]
  },
  {
   "cell_type": "markdown",
   "metadata": {},
   "source": [
    "### Item (c)"
   ]
  },
  {
   "cell_type": "code",
   "execution_count": null,
   "metadata": {},
   "outputs": [],
   "source": [
    "escolhas = np.random.choice(3, 100)\n",
    "M = np.matrix('0.50 0.25 0.25; 0.25 0.50 0.25; 0.25 0.25 0.50')\n",
    "tempos_possiveis = np.array([1, 2, 3])\n",
    "X = np.zeros((100,4))\n",
    "\n",
    "for iteracoes in range(0,100):\n",
    "    soma_coluna = 0\n",
    "    iterador = 0\n",
    "    estado_atual = escolhas[iteracoes]\n",
    "    \n",
    "    for t in tempos_possiveis:\n",
    "        uniforme_sorteado = np.random.uniform(0,1)\n",
    "        while uniforme_sorteado > soma_coluna:\n",
    "            soma_coluna = soma_coluna + M[estado_atual,iterador]\n",
    "            iterador += 1\n",
    "        estado_atual = iterador\n",
    "        X[iteracoes,t] = iterador"
   ]
  },
  {
   "cell_type": "markdown",
   "metadata": {},
   "source": [
    "### Item (d)"
   ]
  },
  {
   "cell_type": "code",
   "execution_count": 148,
   "metadata": {},
   "outputs": [
    {
     "data": {
      "image/png": "[encoded data removed]",
      "text/plain": [
       "<Figure size 432x288 with 1 Axes>"
      ]
     },
     "metadata": {},
     "output_type": "display_data"
    },
    {
     "data": {
      "image/png": "[encoded data removed]",
      "text/plain": [
       "<Figure size 432x288 with 1 Axes>"
      ]
     },
     "metadata": {},
     "output_type": "display_data"
    },
    {
     "data": {
      "image/png": "[encoded data removed]",
      "text/plain": [
       "<Figure size 432x288 with 1 Axes>"
      ]
     },
     "metadata": {},
     "output_type": "display_data"
    },
    {
     "data": {
      "image/png": "[encoded data removed]",
      "text/plain": [
       "<Figure size 432x288 with 1 Axes>"
      ]
     },
     "metadata": {},
     "output_type": "display_data"
    }
   ],
   "source": [
    "count, bins, ignored = plt.hist(X[:,0], 15, density=True)\n",
    "plt.plot(bins, np.ones_like(bins), linewidth=2, color='r')\n",
    "plt.savefig('t_zero.eps',format='eps')\n",
    "plt.show()\n",
    "count, bins, ignored = plt.hist(X[:,1], 15, density=True)\n",
    "plt.plot(bins, np.ones_like(bins), linewidth=2, color='r')\n",
    "plt.savefig('t_um.eps',format='eps')\n",
    "plt.show()\n",
    "count, bins, ignored = plt.hist(X[:,2], 15, density=True)\n",
    "plt.plot(bins, np.ones_like(bins), linewidth=2, color='r')\n",
    "plt.savefig('t_dois.eps',format='eps')\n",
    "plt.show()\n",
    "count, bins, ignored = plt.hist(X[:,3], 15, density=True)\n",
    "plt.plot(bins, np.ones_like(bins), linewidth=2, color='r')\n",
    "plt.savefig('t_tres.eps',format='eps')\n",
    "plt.show()"
   ]
  },
  {
   "cell_type": "markdown",
   "metadata": {},
   "source": [
    "# Questão 2"
   ]
  },
  {
   "cell_type": "code",
   "execution_count": 218,
   "metadata": {},
   "outputs": [],
   "source": [
    "# estados possíveis\n",
    "estados_possiveis = np.array([1, 2, 3, 4, 5])\n",
    "energias_possiveis = np.array([0.5, 0.2, 0.3, 0.1, 0.4])"
   ]
  },
  {
   "cell_type": "markdown",
   "metadata": {},
   "source": [
    "### Item (a)"
   ]
  },
  {
   "cell_type": "code",
   "execution_count": 219,
   "metadata": {},
   "outputs": [
    {
     "data": {
      "text/plain": [
       "array([[0.2       , 0.00995741, 0.02706706, 0.00366313, 0.07357589],\n",
       "       [0.2       , 0.68939964, 0.2       , 0.07357589, 0.2       ],\n",
       "       [0.2       , 0.07357589, 0.49935706, 0.02706706, 0.2       ],\n",
       "       [0.2       , 0.2       , 0.2       , 0.88573651, 0.2       ],\n",
       "       [0.2       , 0.02706706, 0.07357589, 0.00995741, 0.32642411]])"
      ]
     },
     "execution_count": 219,
     "metadata": {},
     "output_type": "execute_result"
    }
   ],
   "source": [
    "# estados possíveis\n",
    "estados_possiveis = np.array([1, 2, 3, 4, 5])\n",
    "energias_possiveis = np.array([0.5, 0.2, 0.3, 0.1, 0.4])\n",
    "temperatura = 0.1\n",
    "\n",
    "#A matriz de transição M, que será 5x5\n",
    "M = np.zeros((5,5))\n",
    "qtd_estados_possiveis = len(estados_possiveis)\n",
    "\n",
    "for iterador_fora in range(0,qtd_estados_possiveis):\n",
    "    for iterador_dentro in range(0,qtd_estados_possiveis):\n",
    "        delta_J = energias_possiveis[iterador_fora] - energias_possiveis[iterador_dentro]\n",
    "        \n",
    "        if (delta_J > 0):\n",
    "            M[iterador_dentro,iterador_fora] = 1/qtd_estados_possiveis\n",
    "        else:\n",
    "            if iterador_dentro == iterador_fora:\n",
    "                M[iterador_dentro,iterador_fora] =  M[iterador_fora,iterador_fora] + 1/(qtd_estados_possiveis)*(np.exp(delta_J/temperatura))\n",
    "                M[iterador_fora,iterador_fora] =  M[iterador_fora,iterador_fora] + 1/(qtd_estados_possiveis)*((1 - np.exp(delta_J/temperatura)))\n",
    "            else:\n",
    "                M[iterador_dentro,iterador_fora] = 1/(qtd_estados_possiveis)*(np.exp(delta_J/temperatura))\n",
    "                M[iterador_fora,iterador_fora] =  M[iterador_fora,iterador_fora] + 1/(qtd_estados_possiveis)*((1 - np.exp(delta_J/temperatura)))\n",
    "M"
   ]
  },
  {
   "cell_type": "markdown",
   "metadata": {},
   "source": [
    "### Item (b)"
   ]
  },
  {
   "cell_type": "code",
   "execution_count": 239,
   "metadata": {},
   "outputs": [
    {
     "data": {
      "text/plain": [
       "array([[0.2       , 0.00995741, 0.02706706, 0.00366313, 0.07357589],\n",
       "       [0.2       , 0.68939964, 0.2       , 0.07357589, 0.2       ],\n",
       "       [0.2       , 0.07357589, 0.49935706, 0.02706706, 0.2       ],\n",
       "       [0.2       , 0.2       , 0.2       , 0.88573651, 0.2       ],\n",
       "       [0.2       , 0.02706706, 0.07357589, 0.00995741, 0.32642411]])"
      ]
     },
     "execution_count": 239,
     "metadata": {},
     "output_type": "execute_result"
    }
   ],
   "source": [
    "M"
   ]
  },
  {
   "cell_type": "code",
   "execution_count": 231,
   "metadata": {},
   "outputs": [
    {
     "name": "stdout",
     "output_type": "stream",
     "text": [
      "No tempo 1 => Mudança de estado: de 1 para 2. Uniforme sorteado foi 0.271.\n",
      "No tempo 2 => Mudança de estado: de 2 para 2. Uniforme sorteado foi 0.221.\n",
      "No tempo 3 => Mudança de estado: de 2 para 2. Uniforme sorteado foi 0.857.\n",
      "No tempo 4 => Mudança de estado: de 2 para 2. Uniforme sorteado foi 0.784.\n"
     ]
    }
   ],
   "source": [
    "estado_atual = 1\n",
    "tempos_possiveis = np.array([1, 2, 3, 4])\n",
    "soma_coluna = 0\n",
    "\n",
    "iterador = 0\n",
    "\n",
    "for t in tempos_possiveis:\n",
    "    uniforme_sorteado = np.random.uniform(0,1)\n",
    "    while uniforme_sorteado > soma_coluna:\n",
    "        soma_coluna = soma_coluna + M[estado_atual,iterador]\n",
    "        iterador += 1\n",
    "    print(f'No tempo {t} => Mudança de estado: de {estado_atual} para {iterador}. Uniforme sorteado foi {uniforme_sorteado:.3}.')\n",
    "    estado_atual = iterador"
   ]
  },
  {
   "cell_type": "markdown",
   "metadata": {},
   "source": [
    "### Item (c)"
   ]
  },
  {
   "cell_type": "code",
   "execution_count": 251,
   "metadata": {},
   "outputs": [],
   "source": [
    "autovalores,autovetores = np.linalg.eig(M)"
   ]
  },
  {
   "cell_type": "code",
   "execution_count": 254,
   "metadata": {},
   "outputs": [
    {
     "data": {
      "text/plain": [
       "array([ 0.03662119,  0.05667404,  1.52041333, -0.1575071 , -0.45620146])"
      ]
     },
     "execution_count": 254,
     "metadata": {},
     "output_type": "execute_result"
    }
   ],
   "source": [
    "vetor_pi = autovetores[0]/np.sum(autovetores[0])\n",
    "vetor_pi"
   ]
  },
  {
   "cell_type": "markdown",
   "metadata": {},
   "source": [
    "### Item (d)"
   ]
  },
  {
   "cell_type": "code",
   "execution_count": 253,
   "metadata": {},
   "outputs": [
    {
     "data": {
      "text/plain": [
       "array([0.01165623, 0.23412166, 0.08612854, 0.63640865, 0.03168492])"
      ]
     },
     "execution_count": 253,
     "metadata": {},
     "output_type": "execute_result"
    }
   ],
   "source": [
    "fatores_boltzmann = np.exp(-energias_possiveis/temperatura)\n",
    "\n",
    "outro_vetor_pi = fatores_boltzmann/np.sum(fatores_boltzmann)\n",
    "outro_vetor_pi"
   ]
  },
  {
   "cell_type": "markdown",
   "metadata": {},
   "source": [
    "### Item (e)"
   ]
  },
  {
   "cell_type": "code",
   "execution_count": 339,
   "metadata": {},
   "outputs": [
    {
     "data": {
      "image/png": "[encoded data removed]",
      "text/plain": [
       "<Figure size 432x288 with 1 Axes>"
      ]
     },
     "metadata": {},
     "output_type": "display_data"
    }
   ],
   "source": [
    "temperaturas = np.array([0.1, 0.0631, 0.05, 0.0431, 0.0387, 0.0356, 0.0333, 0.0315, 0.0301, 0.0289])\n",
    "qtd_temperaturas = len(temperaturas)\n",
    "total_iteracoes = 1000\n",
    "estados_possiveis = np.array([0, 1, 2, 3, 4])\n",
    "qtd_estados_possiveis = len(estados_possiveis)\n",
    "energias_possiveis = np.array([0.5, 0.2, 0.3, 0.1, 0.4])\n",
    "\n",
    "histogram_matrix = np.zeros((qtd_estados_possiveis,qtd_temperaturas))\n",
    "estado_inicial = np.random.choice(qtd_estados_possiveis)\n",
    "estado_atual = estado_inicial\n",
    "J_inicial = energias_possiveis[estado_inicial]\n",
    "J_atual = J_inicial\n",
    "\n",
    "todos_J = np.zeros((total_iteracoes,qtd_temperaturas))\n",
    "todos_estados = np.zeros((total_iteracoes,qtd_temperaturas))\n",
    "\n",
    "for iterador_fora in range(0,qtd_temperaturas):\n",
    "    for iterador_dentro in range(0,total_iteracoes):\n",
    "        estado_possivel = np.random.choice(qtd_estados_possiveis)\n",
    "        J = energias_possiveis[estado_possivel]\n",
    "        r = np.random.uniform(0,1)\n",
    "        if (r <  np.exp((J_atual-J)/temperaturas[iterador_fora])):\n",
    "            estado_atual = estado_possivel\n",
    "            J_atual = J\n",
    "        todos_estados[iterador_dentro,iterador_fora] = estado_atual\n",
    "        todos_J[iterador_dentro,iterador_fora] = J_atual\n",
    "    histogram_matrix[:,iterador_fora], binq, outroq =  plt.hist(todos_estados[:,iterador_fora], qtd_estados_possiveis, density=True)   \n",
    "    histogram_matrix[:,iterador_fora] = histogram_matrix[:,iterador_fora] / np.sum(histogram_matrix[:,iterador_fora] )"
   ]
  },
  {
   "cell_type": "code",
   "execution_count": 340,
   "metadata": {},
   "outputs": [
    {
     "data": {
      "text/plain": [
       "array([[0.009, 0.161, 0.084, 0.078, 0.074, 0.042, 0.058, 0.046, 0.048,\n",
       "        0.019],\n",
       "       [0.26 , 0.   , 0.02 , 0.004, 0.   , 0.   , 0.   , 0.   , 0.   ,\n",
       "        0.   ],\n",
       "       [0.069, 0.04 , 0.   , 0.   , 0.021, 0.013, 0.003, 0.004, 0.   ,\n",
       "        0.   ],\n",
       "       [0.629, 0.   , 0.891, 0.917, 0.   , 0.   , 0.   , 0.   , 0.   ,\n",
       "        0.   ],\n",
       "       [0.033, 0.799, 0.005, 0.001, 0.905, 0.945, 0.939, 0.95 , 0.952,\n",
       "        0.981]])"
      ]
     },
     "execution_count": 340,
     "metadata": {},
     "output_type": "execute_result"
    }
   ],
   "source": [
    "histogram_matrix"
   ]
  },
  {
   "cell_type": "markdown",
   "metadata": {},
   "source": [
    "# Questão 3"
   ]
  },
  {
   "cell_type": "markdown",
   "metadata": {},
   "source": [
    "A função escolhida:\n",
    "$$f(\\mathbf{x}) = $$"
   ]
  },
  {
   "cell_type": "code",
   "execution_count": 372,
   "metadata": {},
   "outputs": [
    {
     "data": {
      "image/png": "[encoded data removed]",
      "text/plain": [
       "<Figure size 432x288 with 1 Axes>"
      ]
     },
     "metadata": {},
     "output_type": "display_data"
    }
   ],
   "source": [
    "# Plot da função J\n",
    "pt_inicial = -4\n",
    "pt_final = 2\n",
    "x = np.linspace(pt_inicial, pt_final)\n",
    "\n",
    "y = x**3 + 3*x**2 - 2*x + 1  \n",
    "sns.lineplot(x,y)\n",
    "plt.xlabel('x')\n",
    "plt.show()"
   ]
  },
  {
   "cell_type": "code",
   "execution_count": 377,
   "metadata": {},
   "outputs": [
    {
     "name": "stdout",
     "output_type": "stream",
     "text": [
      "Warning: Maximum number of function evaluations has been exceeded.\n"
     ]
    },
    {
     "data": {
      "text/plain": [
       "array([-2.37649743e+29])"
      ]
     },
     "execution_count": 377,
     "metadata": {},
     "output_type": "execute_result"
    }
   ],
   "source": [
    "def chosen_function(x):\n",
    "    return x**3 + 3*x**2 - 2*x + 1  \n",
    "\n",
    "pt_inicial = np.random.uniform(-4,2)\n",
    "fmin(chosen_function,pt_inicial)"
   ]
  }
 ],
 "metadata": {
  "kernelspec": {
   "display_name": "Python 3",
   "language": "python",
   "name": "python3"
  },
  "language_info": {
   "codemirror_mode": {
    "name": "ipython",
    "version": 3
   },
   "file_extension": ".py",
   "mimetype": "text/x-python",
   "name": "python",
   "nbconvert_exporter": "python",
   "pygments_lexer": "ipython3",
   "version": "3.7.3"
  }
 },
 "nbformat": 4,
 "nbformat_minor": 2
}
